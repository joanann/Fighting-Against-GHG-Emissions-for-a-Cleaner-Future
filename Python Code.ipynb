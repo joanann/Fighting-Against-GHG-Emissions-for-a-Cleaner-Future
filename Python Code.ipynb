{
  "nbformat": 4,
  "nbformat_minor": 0,
  "metadata": {
    "colab": {
      "name": "TUGAS AKHIR EDA.ipynb",
      "provenance": [],
      "collapsed_sections": []
    },
    "kernelspec": {
      "name": "python3",
      "display_name": "Python 3"
    },
    "language_info": {
      "name": "python"
    }
  },
  "cells": [
    {
      "cell_type": "markdown",
      "metadata": {
        "id": "wbDKKKtb08rn"
      },
      "source": [
        "# **TUGAS AKHIR EDA**\n",
        "\n",
        "Kelompok Mean\n",
        "\n",
        "Anggota :\n",
        "\n",
        "1. Felicia (2006463976)\n",
        "\n",
        "2. Joan Bidadari Annandale (2006571085)\n",
        "\n",
        "3. Muhammad Jauhar Hakim (2006463982)"
      ]
    },
    {
      "cell_type": "code",
      "metadata": {
        "id": "lpVLuyWR0-O-"
      },
      "source": [
        "import pandas as pd\n",
        "import numpy as np\n",
        "import matplotlib.pyplot as plt\n",
        "import seaborn as sns\n",
        "sns.set_style(\"whitegrid\")"
      ],
      "execution_count": null,
      "outputs": []
    },
    {
      "cell_type": "code",
      "metadata": {
        "id": "RoABGTsa1GDe"
      },
      "source": [
        "Asean=['Indonesia','Malaysia','Philippines','Thailand','Singapore','Brunei','Vietnam','Laos','Cambodia','Burma']\n",
        "Asean1=['Indonesia','Malaysia','Philippines','Thailand','Brunei','Vietnam','Laos','Cambodia','Myanmar']\n",
        "Asean2=['Indonesia','Malaysia','Philippines','Thailand','Singapore','Vietnam']\n",
        "Asean3=['Indonesia','Malaysia','Philippines','Thailand','Singapore','Brunei','Vietnam','Laos','Cambodia','Myanmar']"
      ],
      "execution_count": null,
      "outputs": []
    },
    {
      "cell_type": "code",
      "metadata": {
        "id": "39WI_SPr5UaK"
      },
      "source": [
        "def tabelbaru(tabelgroupby,Asean):\n",
        "    \n",
        "    copytabel = tabelgroupby.copy()\n",
        "    copytabel.reset_index(inplace=True)\n",
        "    year = copytabel['Year'].unique()\n",
        "\n",
        "    tabelbb = pd.DataFrame([],columns = Asean)\n",
        "    tabelbb = tabelbb.append(year.tolist(), ignore_index=False)\n",
        "    tabelbb = tabelbb.rename(columns={0:'Year'})\n",
        "    tabelbb['Year'] = tabelbb['Year'].astype('int64')\n",
        "    tabelbb.set_index(['Year'],inplace=True)\n",
        "\n",
        "    for i in Asean:\n",
        "        for j in range(0,(year.tolist()[-1]-year.tolist()[0]+1),(year.tolist()[1]-year.tolist()[0])):\n",
        "            try:\n",
        "                tabelbb[i][(year.tolist()[0])+j]=(tabelgroupby.loc[year.tolist()[0]+j].loc[i]).iloc[0]\n",
        "            except:\n",
        "                continue\n",
        "    \n",
        "    return tabelbb"
      ],
      "execution_count": null,
      "outputs": []
    },
    {
      "cell_type": "markdown",
      "metadata": {
        "id": "h6Dk40xBK9tm"
      },
      "source": [
        "## 1. Data About Global Rank Climate Risk Index 1999-2018\n",
        "\n",
        "Source :\n",
        "*   https://www.germanwatch.org/en/17307\n",
        "*   https://www.germanwatch.org/sites/default/files/20-2-01e%20Global%20Climate%20Risk%20Index%202020_14.pdf\n",
        "\n",
        "Keterangan :\n",
        "\n",
        "A low climate risk index (CRI) indicates that particular country is at risk of either frequent or rare-but-extraordinary catastrophe\n",
        "\n",
        "CRI = Climate Risk Index; GDP = gross domestic product; PPP = purchasing power parity"
      ]
    },
    {
      "cell_type": "code",
      "metadata": {
        "colab": {
          "base_uri": "https://localhost:8080/",
          "height": 407
        },
        "id": "4pclnn5ULdDV",
        "outputId": "16779bf3-c915-4b7e-dd10-93d65315d0bf"
      },
      "source": [
        "cri=pd.read_csv('https://raw.githubusercontent.com/Jauhar-Hakim571/Tugas-Akhir-EDA/main/Global%20Rank%20Climate%20Risk%20Index%20for%201999%E2%80%932018.csv')\n",
        "cri.set_index('Country',inplace=True)\n",
        "cri"
      ],
      "execution_count": null,
      "outputs": [
        {
          "output_type": "execute_result",
          "data": {
            "text/html": [
              "<div>\n",
              "<style scoped>\n",
              "    .dataframe tbody tr th:only-of-type {\n",
              "        vertical-align: middle;\n",
              "    }\n",
              "\n",
              "    .dataframe tbody tr th {\n",
              "        vertical-align: top;\n",
              "    }\n",
              "\n",
              "    .dataframe thead th {\n",
              "        text-align: right;\n",
              "    }\n",
              "</style>\n",
              "<table border=\"1\" class=\"dataframe\">\n",
              "  <thead>\n",
              "    <tr style=\"text-align: right;\">\n",
              "      <th></th>\n",
              "      <th>CRI Rank 1999-2018</th>\n",
              "      <th>CRI Score</th>\n",
              "      <th>Death Toll</th>\n",
              "      <th>Deaths per 100000 Inhabitants</th>\n",
              "      <th>Total Losses in Million US$ PPP</th>\n",
              "      <th>Losses per Unit GDP in %</th>\n",
              "      <th>Number of Events (Total 1999–2018)</th>\n",
              "    </tr>\n",
              "    <tr>\n",
              "      <th>Country</th>\n",
              "      <th></th>\n",
              "      <th></th>\n",
              "      <th></th>\n",
              "      <th></th>\n",
              "      <th></th>\n",
              "      <th></th>\n",
              "      <th></th>\n",
              "    </tr>\n",
              "  </thead>\n",
              "  <tbody>\n",
              "    <tr>\n",
              "      <th>Puerto Rico</th>\n",
              "      <td>1</td>\n",
              "      <td>6.67</td>\n",
              "      <td>149.90</td>\n",
              "      <td>4.09</td>\n",
              "      <td>4567.06</td>\n",
              "      <td>3.76</td>\n",
              "      <td>25</td>\n",
              "    </tr>\n",
              "    <tr>\n",
              "      <th>Myanmar</th>\n",
              "      <td>2</td>\n",
              "      <td>10.33</td>\n",
              "      <td>7052.40</td>\n",
              "      <td>14.29</td>\n",
              "      <td>1630.06</td>\n",
              "      <td>0.83</td>\n",
              "      <td>55</td>\n",
              "    </tr>\n",
              "    <tr>\n",
              "      <th>Haiti</th>\n",
              "      <td>3</td>\n",
              "      <td>13.83</td>\n",
              "      <td>274.15</td>\n",
              "      <td>2.81</td>\n",
              "      <td>388.93</td>\n",
              "      <td>2.38</td>\n",
              "      <td>78</td>\n",
              "    </tr>\n",
              "    <tr>\n",
              "      <th>Philippines</th>\n",
              "      <td>4</td>\n",
              "      <td>17.67</td>\n",
              "      <td>869.80</td>\n",
              "      <td>0.96</td>\n",
              "      <td>3118.68</td>\n",
              "      <td>0.57</td>\n",
              "      <td>317</td>\n",
              "    </tr>\n",
              "    <tr>\n",
              "      <th>Pakistan</th>\n",
              "      <td>5</td>\n",
              "      <td>28.83</td>\n",
              "      <td>499.45</td>\n",
              "      <td>0.30</td>\n",
              "      <td>3792.52</td>\n",
              "      <td>0.53</td>\n",
              "      <td>152</td>\n",
              "    </tr>\n",
              "    <tr>\n",
              "      <th>Vietnam</th>\n",
              "      <td>6</td>\n",
              "      <td>29.83</td>\n",
              "      <td>285.80</td>\n",
              "      <td>0.33</td>\n",
              "      <td>2018.77</td>\n",
              "      <td>0.47</td>\n",
              "      <td>226</td>\n",
              "    </tr>\n",
              "    <tr>\n",
              "      <th>Bangladesh</th>\n",
              "      <td>7</td>\n",
              "      <td>30.00</td>\n",
              "      <td>577.45</td>\n",
              "      <td>0.39</td>\n",
              "      <td>1686.33</td>\n",
              "      <td>0.41</td>\n",
              "      <td>191</td>\n",
              "    </tr>\n",
              "    <tr>\n",
              "      <th>Thailand</th>\n",
              "      <td>8</td>\n",
              "      <td>31.00</td>\n",
              "      <td>140.00</td>\n",
              "      <td>0.21</td>\n",
              "      <td>7764.06</td>\n",
              "      <td>0.87</td>\n",
              "      <td>147</td>\n",
              "    </tr>\n",
              "    <tr>\n",
              "      <th>Nepal</th>\n",
              "      <td>9</td>\n",
              "      <td>31.50</td>\n",
              "      <td>228.00</td>\n",
              "      <td>0.87</td>\n",
              "      <td>225.86</td>\n",
              "      <td>0.40</td>\n",
              "      <td>180</td>\n",
              "    </tr>\n",
              "    <tr>\n",
              "      <th>Dominica</th>\n",
              "      <td>10</td>\n",
              "      <td>32.33</td>\n",
              "      <td>3.35</td>\n",
              "      <td>4.72</td>\n",
              "      <td>133.02</td>\n",
              "      <td>20.80</td>\n",
              "      <td>8</td>\n",
              "    </tr>\n",
              "  </tbody>\n",
              "</table>\n",
              "</div>"
            ],
            "text/plain": [
              "             CRI Rank 1999-2018  ...  Number of Events (Total 1999–2018)\n",
              "Country                          ...                                    \n",
              "Puerto Rico                   1  ...                                  25\n",
              "Myanmar                       2  ...                                  55\n",
              "Haiti                         3  ...                                  78\n",
              "Philippines                   4  ...                                 317\n",
              "Pakistan                      5  ...                                 152\n",
              "Vietnam                       6  ...                                 226\n",
              "Bangladesh                    7  ...                                 191\n",
              "Thailand                      8  ...                                 147\n",
              "Nepal                         9  ...                                 180\n",
              "Dominica                     10  ...                                   8\n",
              "\n",
              "[10 rows x 7 columns]"
            ]
          },
          "metadata": {
            "tags": []
          },
          "execution_count": 124
        }
      ]
    },
    {
      "cell_type": "code",
      "metadata": {
        "colab": {
          "base_uri": "https://localhost:8080/",
          "height": 221
        },
        "id": "-uFywlN-LnMs",
        "outputId": "f8b9f700-a0e8-49c0-fe49-7394d7978440"
      },
      "source": [
        "cri_asean = cri.loc[['Myanmar','Philippines','Vietnam','Thailand']]\n",
        "cri_asean"
      ],
      "execution_count": null,
      "outputs": [
        {
          "output_type": "execute_result",
          "data": {
            "text/html": [
              "<div>\n",
              "<style scoped>\n",
              "    .dataframe tbody tr th:only-of-type {\n",
              "        vertical-align: middle;\n",
              "    }\n",
              "\n",
              "    .dataframe tbody tr th {\n",
              "        vertical-align: top;\n",
              "    }\n",
              "\n",
              "    .dataframe thead th {\n",
              "        text-align: right;\n",
              "    }\n",
              "</style>\n",
              "<table border=\"1\" class=\"dataframe\">\n",
              "  <thead>\n",
              "    <tr style=\"text-align: right;\">\n",
              "      <th></th>\n",
              "      <th>CRI Rank 1999-2018</th>\n",
              "      <th>CRI Score</th>\n",
              "      <th>Death Toll</th>\n",
              "      <th>Deaths per 100000 Inhabitants</th>\n",
              "      <th>Total Losses in Million US$ PPP</th>\n",
              "      <th>Losses per Unit GDP in %</th>\n",
              "      <th>Number of Events (Total 1999–2018)</th>\n",
              "    </tr>\n",
              "    <tr>\n",
              "      <th>Country</th>\n",
              "      <th></th>\n",
              "      <th></th>\n",
              "      <th></th>\n",
              "      <th></th>\n",
              "      <th></th>\n",
              "      <th></th>\n",
              "      <th></th>\n",
              "    </tr>\n",
              "  </thead>\n",
              "  <tbody>\n",
              "    <tr>\n",
              "      <th>Myanmar</th>\n",
              "      <td>2</td>\n",
              "      <td>10.33</td>\n",
              "      <td>7052.4</td>\n",
              "      <td>14.29</td>\n",
              "      <td>1630.06</td>\n",
              "      <td>0.83</td>\n",
              "      <td>55</td>\n",
              "    </tr>\n",
              "    <tr>\n",
              "      <th>Philippines</th>\n",
              "      <td>4</td>\n",
              "      <td>17.67</td>\n",
              "      <td>869.8</td>\n",
              "      <td>0.96</td>\n",
              "      <td>3118.68</td>\n",
              "      <td>0.57</td>\n",
              "      <td>317</td>\n",
              "    </tr>\n",
              "    <tr>\n",
              "      <th>Vietnam</th>\n",
              "      <td>6</td>\n",
              "      <td>29.83</td>\n",
              "      <td>285.8</td>\n",
              "      <td>0.33</td>\n",
              "      <td>2018.77</td>\n",
              "      <td>0.47</td>\n",
              "      <td>226</td>\n",
              "    </tr>\n",
              "    <tr>\n",
              "      <th>Thailand</th>\n",
              "      <td>8</td>\n",
              "      <td>31.00</td>\n",
              "      <td>140.0</td>\n",
              "      <td>0.21</td>\n",
              "      <td>7764.06</td>\n",
              "      <td>0.87</td>\n",
              "      <td>147</td>\n",
              "    </tr>\n",
              "  </tbody>\n",
              "</table>\n",
              "</div>"
            ],
            "text/plain": [
              "             CRI Rank 1999-2018  ...  Number of Events (Total 1999–2018)\n",
              "Country                          ...                                    \n",
              "Myanmar                       2  ...                                  55\n",
              "Philippines                   4  ...                                 317\n",
              "Vietnam                       6  ...                                 226\n",
              "Thailand                      8  ...                                 147\n",
              "\n",
              "[4 rows x 7 columns]"
            ]
          },
          "metadata": {
            "tags": []
          },
          "execution_count": 125
        }
      ]
    },
    {
      "cell_type": "code",
      "metadata": {
        "colab": {
          "base_uri": "https://localhost:8080/",
          "height": 404
        },
        "id": "dtUVlhK9MNyS",
        "outputId": "75e78110-6c77-4379-caf9-14b8b35cb282"
      },
      "source": [
        "fig=plt.figure(figsize=(12,6))\n",
        "ax0=fig.add_subplot(1,2,1)\n",
        "\n",
        "#Bar Cri Score\n",
        "cri_asean['CRI Score'].plot(kind='bar',ax=ax0)\n",
        "ax0.set_xlabel('Country')\n",
        "ax0.set_ylabel('CRI Score')\n",
        "ax0.set_title('CRI Score from 1999-2018')\n",
        "ax0.tick_params(labelrotation=0)\n",
        "\n",
        "plt.show()"
      ],
      "execution_count": null,
      "outputs": [
        {
          "output_type": "display_data",
          "data": {
            "image/png": "[encoded data removed]",
            "text/plain": [
              "<Figure size 864x432 with 1 Axes>"
            ]
          },
          "metadata": {
            "tags": []
          }
        }
      ]
    },
    {
      "cell_type": "code",
      "metadata": {
        "colab": {
          "base_uri": "https://localhost:8080/"
        },
        "id": "RLQtBsfXGfHi",
        "outputId": "f7d4e19a-c63d-4992-eea9-fca662bcb5bf"
      },
      "source": [
        "cri_asean.drop('CRI Rank 1999-2018', axis=1, inplace=True)\n",
        "cri_asean.drop('CRI Score', axis=1, inplace=True)\n",
        "cri_asean.drop('Deaths per 100000 Inhabitants', axis=1, inplace=True)\n",
        "cri_asean.drop('Losses per Unit GDP in %', axis=1, inplace=True)\n",
        "cri_asean.sum()"
      ],
      "execution_count": null,
      "outputs": [
        {
          "output_type": "execute_result",
          "data": {
            "text/plain": [
              "Death Toll                             8348.00\n",
              "Total Losses in Million US$ PPP       14531.57\n",
              "Number of Events (Total 1999–2018)      745.00\n",
              "dtype: float64"
            ]
          },
          "metadata": {
            "tags": []
          },
          "execution_count": 127
        }
      ]
    },
    {
      "cell_type": "markdown",
      "metadata": {
        "id": "fkv9w41R4s7T"
      },
      "source": [
        "## 2. Data About Above-Ground Biomass In Forest Per Hectare (Excluding Singapore)\n",
        "\n",
        "Source :\n",
        "*   https://ourworldindata.org/grapher/above-ground-biomass-in-forest-per-hectare\n",
        "*   https://unstats.un.org/sdgs/indicators/database/\n",
        "\n",
        "\n",
        "Keterangan :\n",
        "\n",
        "Above ground biomass density, measured in tonnes of forest biomass per hectare. \n",
        "\n",
        "Kepadatan biomassa di atas tanah, diukur dalam ton biomassa hutan per hektar."
      ]
    },
    {
      "cell_type": "code",
      "metadata": {
        "colab": {
          "base_uri": "https://localhost:8080/",
          "height": 204
        },
        "id": "ZvpYVnf8qH35",
        "outputId": "48ed2422-6abf-426d-e95d-ccd34c76fc16"
      },
      "source": [
        "forest = pd.read_csv('https://raw.githubusercontent.com/Jauhar-Hakim571/Tugas-Akhir-EDA/main/above-ground-biomass-in-forest-per-hectare.csv')\n",
        "forest.head()"
      ],
      "execution_count": null,
      "outputs": [
        {
          "output_type": "execute_result",
          "data": {
            "text/html": [
              "<div>\n",
              "<style scoped>\n",
              "    .dataframe tbody tr th:only-of-type {\n",
              "        vertical-align: middle;\n",
              "    }\n",
              "\n",
              "    .dataframe tbody tr th {\n",
              "        vertical-align: top;\n",
              "    }\n",
              "\n",
              "    .dataframe thead th {\n",
              "        text-align: right;\n",
              "    }\n",
              "</style>\n",
              "<table border=\"1\" class=\"dataframe\">\n",
              "  <thead>\n",
              "    <tr style=\"text-align: right;\">\n",
              "      <th></th>\n",
              "      <th>Entity</th>\n",
              "      <th>Code</th>\n",
              "      <th>Year</th>\n",
              "      <th>15.2.1 - Above-ground biomass in forest per hectare (tonnes per hectare) - AG_LND_FRSTBIOPHA</th>\n",
              "    </tr>\n",
              "  </thead>\n",
              "  <tbody>\n",
              "    <tr>\n",
              "      <th>0</th>\n",
              "      <td>Afghanistan</td>\n",
              "      <td>AFG</td>\n",
              "      <td>2000</td>\n",
              "      <td>46.960</td>\n",
              "    </tr>\n",
              "    <tr>\n",
              "      <th>1</th>\n",
              "      <td>Afghanistan</td>\n",
              "      <td>AFG</td>\n",
              "      <td>2005</td>\n",
              "      <td>46.960</td>\n",
              "    </tr>\n",
              "    <tr>\n",
              "      <th>2</th>\n",
              "      <td>Afghanistan</td>\n",
              "      <td>AFG</td>\n",
              "      <td>2010</td>\n",
              "      <td>46.960</td>\n",
              "    </tr>\n",
              "    <tr>\n",
              "      <th>3</th>\n",
              "      <td>Afghanistan</td>\n",
              "      <td>AFG</td>\n",
              "      <td>2015</td>\n",
              "      <td>46.960</td>\n",
              "    </tr>\n",
              "    <tr>\n",
              "      <th>4</th>\n",
              "      <td>Africa</td>\n",
              "      <td>NaN</td>\n",
              "      <td>2000</td>\n",
              "      <td>161.604</td>\n",
              "    </tr>\n",
              "  </tbody>\n",
              "</table>\n",
              "</div>"
            ],
            "text/plain": [
              "        Entity  ... 15.2.1 - Above-ground biomass in forest per hectare (tonnes per hectare) - AG_LND_FRSTBIOPHA\n",
              "0  Afghanistan  ...                                             46.960                                          \n",
              "1  Afghanistan  ...                                             46.960                                          \n",
              "2  Afghanistan  ...                                             46.960                                          \n",
              "3  Afghanistan  ...                                             46.960                                          \n",
              "4       Africa  ...                                            161.604                                          \n",
              "\n",
              "[5 rows x 4 columns]"
            ]
          },
          "metadata": {
            "tags": []
          },
          "execution_count": 128
        }
      ]
    },
    {
      "cell_type": "code",
      "metadata": {
        "colab": {
          "base_uri": "https://localhost:8080/",
          "height": 235
        },
        "id": "-k6lFAPx4UoY",
        "outputId": "4312b228-ac8d-421d-eabf-99522b6df2ec"
      },
      "source": [
        "forest.set_index(['Entity'],inplace = True)\n",
        "forest.head()"
      ],
      "execution_count": null,
      "outputs": [
        {
          "output_type": "execute_result",
          "data": {
            "text/html": [
              "<div>\n",
              "<style scoped>\n",
              "    .dataframe tbody tr th:only-of-type {\n",
              "        vertical-align: middle;\n",
              "    }\n",
              "\n",
              "    .dataframe tbody tr th {\n",
              "        vertical-align: top;\n",
              "    }\n",
              "\n",
              "    .dataframe thead th {\n",
              "        text-align: right;\n",
              "    }\n",
              "</style>\n",
              "<table border=\"1\" class=\"dataframe\">\n",
              "  <thead>\n",
              "    <tr style=\"text-align: right;\">\n",
              "      <th></th>\n",
              "      <th>Code</th>\n",
              "      <th>Year</th>\n",
              "      <th>15.2.1 - Above-ground biomass in forest per hectare (tonnes per hectare) - AG_LND_FRSTBIOPHA</th>\n",
              "    </tr>\n",
              "    <tr>\n",
              "      <th>Entity</th>\n",
              "      <th></th>\n",
              "      <th></th>\n",
              "      <th></th>\n",
              "    </tr>\n",
              "  </thead>\n",
              "  <tbody>\n",
              "    <tr>\n",
              "      <th>Afghanistan</th>\n",
              "      <td>AFG</td>\n",
              "      <td>2000</td>\n",
              "      <td>46.960</td>\n",
              "    </tr>\n",
              "    <tr>\n",
              "      <th>Afghanistan</th>\n",
              "      <td>AFG</td>\n",
              "      <td>2005</td>\n",
              "      <td>46.960</td>\n",
              "    </tr>\n",
              "    <tr>\n",
              "      <th>Afghanistan</th>\n",
              "      <td>AFG</td>\n",
              "      <td>2010</td>\n",
              "      <td>46.960</td>\n",
              "    </tr>\n",
              "    <tr>\n",
              "      <th>Afghanistan</th>\n",
              "      <td>AFG</td>\n",
              "      <td>2015</td>\n",
              "      <td>46.960</td>\n",
              "    </tr>\n",
              "    <tr>\n",
              "      <th>Africa</th>\n",
              "      <td>NaN</td>\n",
              "      <td>2000</td>\n",
              "      <td>161.604</td>\n",
              "    </tr>\n",
              "  </tbody>\n",
              "</table>\n",
              "</div>"
            ],
            "text/plain": [
              "            Code  ...  15.2.1 - Above-ground biomass in forest per hectare (tonnes per hectare) - AG_LND_FRSTBIOPHA\n",
              "Entity            ...                                                                                              \n",
              "Afghanistan  AFG  ...                                             46.960                                           \n",
              "Afghanistan  AFG  ...                                             46.960                                           \n",
              "Afghanistan  AFG  ...                                             46.960                                           \n",
              "Afghanistan  AFG  ...                                             46.960                                           \n",
              "Africa       NaN  ...                                            161.604                                           \n",
              "\n",
              "[5 rows x 3 columns]"
            ]
          },
          "metadata": {
            "tags": []
          },
          "execution_count": 129
        }
      ]
    },
    {
      "cell_type": "code",
      "metadata": {
        "colab": {
          "base_uri": "https://localhost:8080/",
          "height": 235
        },
        "id": "6VSJw5MS4hP6",
        "outputId": "4f48b2e1-969e-4ecb-96b5-5b1719bfab90"
      },
      "source": [
        "forest_asean = forest.loc[Asean1]\n",
        "\n",
        "forest_asean.reset_index(inplace=True)\n",
        "forest_asean.set_index(['Year'],inplace=True)\n",
        "forest_asean.drop('Code', axis=1, inplace=True)\n",
        "forest_asean.head()"
      ],
      "execution_count": null,
      "outputs": [
        {
          "output_type": "execute_result",
          "data": {
            "text/html": [
              "<div>\n",
              "<style scoped>\n",
              "    .dataframe tbody tr th:only-of-type {\n",
              "        vertical-align: middle;\n",
              "    }\n",
              "\n",
              "    .dataframe tbody tr th {\n",
              "        vertical-align: top;\n",
              "    }\n",
              "\n",
              "    .dataframe thead th {\n",
              "        text-align: right;\n",
              "    }\n",
              "</style>\n",
              "<table border=\"1\" class=\"dataframe\">\n",
              "  <thead>\n",
              "    <tr style=\"text-align: right;\">\n",
              "      <th></th>\n",
              "      <th>Entity</th>\n",
              "      <th>15.2.1 - Above-ground biomass in forest per hectare (tonnes per hectare) - AG_LND_FRSTBIOPHA</th>\n",
              "    </tr>\n",
              "    <tr>\n",
              "      <th>Year</th>\n",
              "      <th></th>\n",
              "      <th></th>\n",
              "    </tr>\n",
              "  </thead>\n",
              "  <tbody>\n",
              "    <tr>\n",
              "      <th>2000</th>\n",
              "      <td>Indonesia</td>\n",
              "      <td>244.31</td>\n",
              "    </tr>\n",
              "    <tr>\n",
              "      <th>2005</th>\n",
              "      <td>Indonesia</td>\n",
              "      <td>233.76</td>\n",
              "    </tr>\n",
              "    <tr>\n",
              "      <th>2010</th>\n",
              "      <td>Indonesia</td>\n",
              "      <td>220.54</td>\n",
              "    </tr>\n",
              "    <tr>\n",
              "      <th>2015</th>\n",
              "      <td>Indonesia</td>\n",
              "      <td>206.32</td>\n",
              "    </tr>\n",
              "    <tr>\n",
              "      <th>2000</th>\n",
              "      <td>Malaysia</td>\n",
              "      <td>206.61</td>\n",
              "    </tr>\n",
              "  </tbody>\n",
              "</table>\n",
              "</div>"
            ],
            "text/plain": [
              "         Entity  15.2.1 - Above-ground biomass in forest per hectare (tonnes per hectare) - AG_LND_FRSTBIOPHA\n",
              "Year                                                                                                         \n",
              "2000  Indonesia                                             244.31                                           \n",
              "2005  Indonesia                                             233.76                                           \n",
              "2010  Indonesia                                             220.54                                           \n",
              "2015  Indonesia                                             206.32                                           \n",
              "2000   Malaysia                                             206.61                                           "
            ]
          },
          "metadata": {
            "tags": []
          },
          "execution_count": 130
        }
      ]
    },
    {
      "cell_type": "code",
      "metadata": {
        "colab": {
          "base_uri": "https://localhost:8080/",
          "height": 235
        },
        "id": "-wH2srwU4cPL",
        "outputId": "62c2e4a2-98aa-44e7-e6f1-ce0ca8aaf6ee"
      },
      "source": [
        "forest_asean2 = forest.loc[Asean1].groupby(['Year','Entity']).sum()\n",
        "forest_asean2.head()"
      ],
      "execution_count": null,
      "outputs": [
        {
          "output_type": "execute_result",
          "data": {
            "text/html": [
              "<div>\n",
              "<style scoped>\n",
              "    .dataframe tbody tr th:only-of-type {\n",
              "        vertical-align: middle;\n",
              "    }\n",
              "\n",
              "    .dataframe tbody tr th {\n",
              "        vertical-align: top;\n",
              "    }\n",
              "\n",
              "    .dataframe thead th {\n",
              "        text-align: right;\n",
              "    }\n",
              "</style>\n",
              "<table border=\"1\" class=\"dataframe\">\n",
              "  <thead>\n",
              "    <tr style=\"text-align: right;\">\n",
              "      <th></th>\n",
              "      <th></th>\n",
              "      <th>15.2.1 - Above-ground biomass in forest per hectare (tonnes per hectare) - AG_LND_FRSTBIOPHA</th>\n",
              "    </tr>\n",
              "    <tr>\n",
              "      <th>Year</th>\n",
              "      <th>Entity</th>\n",
              "      <th></th>\n",
              "    </tr>\n",
              "  </thead>\n",
              "  <tbody>\n",
              "    <tr>\n",
              "      <th rowspan=\"5\" valign=\"top\">2000</th>\n",
              "      <th>Brunei</th>\n",
              "      <td>329.37</td>\n",
              "    </tr>\n",
              "    <tr>\n",
              "      <th>Cambodia</th>\n",
              "      <td>63.40</td>\n",
              "    </tr>\n",
              "    <tr>\n",
              "      <th>Indonesia</th>\n",
              "      <td>244.31</td>\n",
              "    </tr>\n",
              "    <tr>\n",
              "      <th>Laos</th>\n",
              "      <td>121.20</td>\n",
              "    </tr>\n",
              "    <tr>\n",
              "      <th>Malaysia</th>\n",
              "      <td>206.61</td>\n",
              "    </tr>\n",
              "  </tbody>\n",
              "</table>\n",
              "</div>"
            ],
            "text/plain": [
              "                15.2.1 - Above-ground biomass in forest per hectare (tonnes per hectare) - AG_LND_FRSTBIOPHA\n",
              "Year Entity                                                                                                 \n",
              "2000 Brunei                                                329.37                                           \n",
              "     Cambodia                                               63.40                                           \n",
              "     Indonesia                                             244.31                                           \n",
              "     Laos                                                  121.20                                           \n",
              "     Malaysia                                              206.61                                           "
            ]
          },
          "metadata": {
            "tags": []
          },
          "execution_count": 131
        }
      ]
    },
    {
      "cell_type": "code",
      "metadata": {
        "colab": {
          "base_uri": "https://localhost:8080/",
          "height": 204
        },
        "id": "PRUBZP699VUL",
        "outputId": "eb409251-2caa-4e08-fce6-df2dd9c37b62"
      },
      "source": [
        "forest_asean3 = tabelbaru(forest_asean2,Asean1)\n",
        "forest_asean3.head()"
      ],
      "execution_count": null,
      "outputs": [
        {
          "output_type": "execute_result",
          "data": {
            "text/html": [
              "<div>\n",
              "<style scoped>\n",
              "    .dataframe tbody tr th:only-of-type {\n",
              "        vertical-align: middle;\n",
              "    }\n",
              "\n",
              "    .dataframe tbody tr th {\n",
              "        vertical-align: top;\n",
              "    }\n",
              "\n",
              "    .dataframe thead th {\n",
              "        text-align: right;\n",
              "    }\n",
              "</style>\n",
              "<table border=\"1\" class=\"dataframe\">\n",
              "  <thead>\n",
              "    <tr style=\"text-align: right;\">\n",
              "      <th></th>\n",
              "      <th>Brunei</th>\n",
              "      <th>Cambodia</th>\n",
              "      <th>Indonesia</th>\n",
              "      <th>Laos</th>\n",
              "      <th>Malaysia</th>\n",
              "      <th>Myanmar</th>\n",
              "      <th>Philippines</th>\n",
              "      <th>Thailand</th>\n",
              "      <th>Vietnam</th>\n",
              "    </tr>\n",
              "    <tr>\n",
              "      <th>Year</th>\n",
              "      <th></th>\n",
              "      <th></th>\n",
              "      <th></th>\n",
              "      <th></th>\n",
              "      <th></th>\n",
              "      <th></th>\n",
              "      <th></th>\n",
              "      <th></th>\n",
              "      <th></th>\n",
              "    </tr>\n",
              "  </thead>\n",
              "  <tbody>\n",
              "    <tr>\n",
              "      <th>2000</th>\n",
              "      <td>329.37</td>\n",
              "      <td>63.4</td>\n",
              "      <td>244.31</td>\n",
              "      <td>121.2</td>\n",
              "      <td>206.61</td>\n",
              "      <td>92.26</td>\n",
              "      <td>158.53</td>\n",
              "      <td>86.83</td>\n",
              "      <td>131.83</td>\n",
              "    </tr>\n",
              "    <tr>\n",
              "      <th>2005</th>\n",
              "      <td>325.96</td>\n",
              "      <td>63</td>\n",
              "      <td>233.76</td>\n",
              "      <td>116.42</td>\n",
              "      <td>201.72</td>\n",
              "      <td>92.25</td>\n",
              "      <td>153.76</td>\n",
              "      <td>91.3</td>\n",
              "      <td>122.96</td>\n",
              "    </tr>\n",
              "    <tr>\n",
              "      <th>2010</th>\n",
              "      <td>323.26</td>\n",
              "      <td>62.71</td>\n",
              "      <td>220.54</td>\n",
              "      <td>108.05</td>\n",
              "      <td>196.85</td>\n",
              "      <td>92.25</td>\n",
              "      <td>148.95</td>\n",
              "      <td>90.77</td>\n",
              "      <td>116.44</td>\n",
              "    </tr>\n",
              "    <tr>\n",
              "      <th>2015</th>\n",
              "      <td>323.68</td>\n",
              "      <td>62.39</td>\n",
              "      <td>206.32</td>\n",
              "      <td>100.53</td>\n",
              "      <td>215.45</td>\n",
              "      <td>94.72</td>\n",
              "      <td>144.28</td>\n",
              "      <td>88.24</td>\n",
              "      <td>115.75</td>\n",
              "    </tr>\n",
              "  </tbody>\n",
              "</table>\n",
              "</div>"
            ],
            "text/plain": [
              "      Brunei Cambodia Indonesia    Laos  ... Myanmar Philippines Thailand Vietnam\n",
              "Year                                     ...                                     \n",
              "2000  329.37     63.4    244.31   121.2  ...   92.26      158.53    86.83  131.83\n",
              "2005  325.96       63    233.76  116.42  ...   92.25      153.76     91.3  122.96\n",
              "2010  323.26    62.71    220.54  108.05  ...   92.25      148.95    90.77  116.44\n",
              "2015  323.68    62.39    206.32  100.53  ...   94.72      144.28    88.24  115.75\n",
              "\n",
              "[4 rows x 9 columns]"
            ]
          },
          "metadata": {
            "tags": []
          },
          "execution_count": 132
        }
      ]
    },
    {
      "cell_type": "code",
      "metadata": {
        "colab": {
          "base_uri": "https://localhost:8080/"
        },
        "id": "eiaW4LR3VAwJ",
        "outputId": "c0045c08-560e-415a-a10a-10d059e63747"
      },
      "source": [
        "forest_asean3.dtypes"
      ],
      "execution_count": null,
      "outputs": [
        {
          "output_type": "execute_result",
          "data": {
            "text/plain": [
              "Brunei         object\n",
              "Cambodia       object\n",
              "Indonesia      object\n",
              "Laos           object\n",
              "Malaysia       object\n",
              "Myanmar        object\n",
              "Philippines    object\n",
              "Thailand       object\n",
              "Vietnam        object\n",
              "dtype: object"
            ]
          },
          "metadata": {
            "tags": []
          },
          "execution_count": 133
        }
      ]
    },
    {
      "cell_type": "code",
      "metadata": {
        "colab": {
          "base_uri": "https://localhost:8080/"
        },
        "id": "vKAnSIanVert",
        "outputId": "2c1d22a6-474e-4689-e7ac-3395a5726e4d"
      },
      "source": [
        "for i in Asean1:\n",
        "    forest_asean3[i] = pd.to_numeric(forest_asean3[i])\n",
        "\n",
        "forest_asean3.dtypes"
      ],
      "execution_count": null,
      "outputs": [
        {
          "output_type": "execute_result",
          "data": {
            "text/plain": [
              "Brunei         float64\n",
              "Cambodia       float64\n",
              "Indonesia      float64\n",
              "Laos           float64\n",
              "Malaysia       float64\n",
              "Myanmar        float64\n",
              "Philippines    float64\n",
              "Thailand       float64\n",
              "Vietnam        float64\n",
              "dtype: object"
            ]
          },
          "metadata": {
            "tags": []
          },
          "execution_count": 134
        }
      ]
    },
    {
      "cell_type": "code",
      "metadata": {
        "colab": {
          "base_uri": "https://localhost:8080/"
        },
        "id": "WuFRVvbAVnf0",
        "outputId": "1fec6e6f-5a07-4e77-d3b9-afaa1a217d7c"
      },
      "source": [
        "print(forest_asean3.isnull().sum())"
      ],
      "execution_count": null,
      "outputs": [
        {
          "output_type": "stream",
          "text": [
            "Brunei         0\n",
            "Cambodia       0\n",
            "Indonesia      0\n",
            "Laos           0\n",
            "Malaysia       0\n",
            "Myanmar        0\n",
            "Philippines    0\n",
            "Thailand       0\n",
            "Vietnam        0\n",
            "dtype: int64\n"
          ],
          "name": "stdout"
        }
      ]
    },
    {
      "cell_type": "code",
      "metadata": {
        "colab": {
          "base_uri": "https://localhost:8080/",
          "height": 204
        },
        "id": "e7sZwS6xVutb",
        "outputId": "0cd7ebc6-e984-43b6-c7c5-8f8d825963c4"
      },
      "source": [
        "forest_asean3['Rata-Rata']=forest_asean3.mean(axis=1)\n",
        "forest_asean3"
      ],
      "execution_count": null,
      "outputs": [
        {
          "output_type": "execute_result",
          "data": {
            "text/html": [
              "<div>\n",
              "<style scoped>\n",
              "    .dataframe tbody tr th:only-of-type {\n",
              "        vertical-align: middle;\n",
              "    }\n",
              "\n",
              "    .dataframe tbody tr th {\n",
              "        vertical-align: top;\n",
              "    }\n",
              "\n",
              "    .dataframe thead th {\n",
              "        text-align: right;\n",
              "    }\n",
              "</style>\n",
              "<table border=\"1\" class=\"dataframe\">\n",
              "  <thead>\n",
              "    <tr style=\"text-align: right;\">\n",
              "      <th></th>\n",
              "      <th>Brunei</th>\n",
              "      <th>Cambodia</th>\n",
              "      <th>Indonesia</th>\n",
              "      <th>Laos</th>\n",
              "      <th>Malaysia</th>\n",
              "      <th>Myanmar</th>\n",
              "      <th>Philippines</th>\n",
              "      <th>Thailand</th>\n",
              "      <th>Vietnam</th>\n",
              "      <th>Rata-Rata</th>\n",
              "    </tr>\n",
              "    <tr>\n",
              "      <th>Year</th>\n",
              "      <th></th>\n",
              "      <th></th>\n",
              "      <th></th>\n",
              "      <th></th>\n",
              "      <th></th>\n",
              "      <th></th>\n",
              "      <th></th>\n",
              "      <th></th>\n",
              "      <th></th>\n",
              "      <th></th>\n",
              "    </tr>\n",
              "  </thead>\n",
              "  <tbody>\n",
              "    <tr>\n",
              "      <th>2000</th>\n",
              "      <td>329.37</td>\n",
              "      <td>63.40</td>\n",
              "      <td>244.31</td>\n",
              "      <td>121.20</td>\n",
              "      <td>206.61</td>\n",
              "      <td>92.26</td>\n",
              "      <td>158.53</td>\n",
              "      <td>86.83</td>\n",
              "      <td>131.83</td>\n",
              "      <td>159.371111</td>\n",
              "    </tr>\n",
              "    <tr>\n",
              "      <th>2005</th>\n",
              "      <td>325.96</td>\n",
              "      <td>63.00</td>\n",
              "      <td>233.76</td>\n",
              "      <td>116.42</td>\n",
              "      <td>201.72</td>\n",
              "      <td>92.25</td>\n",
              "      <td>153.76</td>\n",
              "      <td>91.30</td>\n",
              "      <td>122.96</td>\n",
              "      <td>155.681111</td>\n",
              "    </tr>\n",
              "    <tr>\n",
              "      <th>2010</th>\n",
              "      <td>323.26</td>\n",
              "      <td>62.71</td>\n",
              "      <td>220.54</td>\n",
              "      <td>108.05</td>\n",
              "      <td>196.85</td>\n",
              "      <td>92.25</td>\n",
              "      <td>148.95</td>\n",
              "      <td>90.77</td>\n",
              "      <td>116.44</td>\n",
              "      <td>151.091111</td>\n",
              "    </tr>\n",
              "    <tr>\n",
              "      <th>2015</th>\n",
              "      <td>323.68</td>\n",
              "      <td>62.39</td>\n",
              "      <td>206.32</td>\n",
              "      <td>100.53</td>\n",
              "      <td>215.45</td>\n",
              "      <td>94.72</td>\n",
              "      <td>144.28</td>\n",
              "      <td>88.24</td>\n",
              "      <td>115.75</td>\n",
              "      <td>150.151111</td>\n",
              "    </tr>\n",
              "  </tbody>\n",
              "</table>\n",
              "</div>"
            ],
            "text/plain": [
              "      Brunei  Cambodia  Indonesia  ...  Thailand  Vietnam   Rata-Rata\n",
              "Year                               ...                               \n",
              "2000  329.37     63.40     244.31  ...     86.83   131.83  159.371111\n",
              "2005  325.96     63.00     233.76  ...     91.30   122.96  155.681111\n",
              "2010  323.26     62.71     220.54  ...     90.77   116.44  151.091111\n",
              "2015  323.68     62.39     206.32  ...     88.24   115.75  150.151111\n",
              "\n",
              "[4 rows x 10 columns]"
            ]
          },
          "metadata": {
            "tags": []
          },
          "execution_count": 136
        }
      ]
    },
    {
      "cell_type": "code",
      "metadata": {
        "colab": {
          "base_uri": "https://localhost:8080/",
          "height": 808
        },
        "id": "sQqocHM7V6bC",
        "outputId": "dfd4850e-95fe-417c-8d3a-871a7f1f101f"
      },
      "source": [
        "for_p = forest_asean3.plot(subplots=True, figsize=(12,15))"
      ],
      "execution_count": null,
      "outputs": [
        {
          "output_type": "display_data",
          "data": {
            "image/png": "[encoded data removed]",
            "text/plain": [
              "<Figure size 864x1080 with 10 Axes>"
            ]
          },
          "metadata": {
            "tags": []
          }
        }
      ]
    },
    {
      "cell_type": "code",
      "metadata": {
        "colab": {
          "base_uri": "https://localhost:8080/",
          "height": 404
        },
        "id": "tceoBmXDWOr0",
        "outputId": "c4274ff5-418b-4176-d58c-693796153ced"
      },
      "source": [
        "plt.figure(figsize=(12,6))\n",
        "for_q=sns.lineplot(x='Year', y='Rata-Rata', data=forest_asean3,palette='Set1')\n",
        "\n",
        "for_q.set(xlabel =\"Year\",ylabel='Hectare',title ='Above ground biomass density, measured in tonnes of forest biomass per hectare.')\n",
        "\n",
        "for_q.figure.savefig('lineforest.png')\n",
        "\n",
        "plt.show()"
      ],
      "execution_count": null,
      "outputs": [
        {
          "output_type": "display_data",
          "data": {
            "image/png": "[encoded data removed]",
            "text/plain": [
              "<Figure size 864x432 with 1 Axes>"
            ]
          },
          "metadata": {
            "tags": []
          }
        }
      ]
    },
    {
      "cell_type": "markdown",
      "metadata": {
        "id": "BDuAOFPL48tj"
      },
      "source": [
        "## 3. Data About Total Greenhouse Gas Emissions, Including Land Use and Forestry\n",
        "\n",
        "Source : \n",
        "*   https://ourworldindata.org/grapher/total-ghg-emissions?tab=chart\n",
        "*   https://www.climatewatchdata.org/data-explorer/historical-emissions\n",
        "\n",
        "Keterangan :\n",
        "\n",
        "Greenhouse gas emissions are measured in Metric tons of carbon dioxide-equivalents (MtCO₂e), including emissions from land-use change and forestry.\n",
        "\n",
        "Emisi gas rumah kaca diukur dalam metrik ton setara karbon dioksida (MtCO₂e), \n",
        "termasuk emisi dari perubahan penggunaan lahan dan kehutanan."
      ]
    },
    {
      "cell_type": "code",
      "metadata": {
        "colab": {
          "base_uri": "https://localhost:8080/",
          "height": 411
        },
        "id": "clHuKfiws-YC",
        "outputId": "9c565cab-fdda-4a0d-9c3a-eb13b8ace00b"
      },
      "source": [
        "emisi = pd.read_csv('https://raw.githubusercontent.com/Jauhar-Hakim571/Tugas-Akhir-EDA/main/historical_emissions%20include%20luhf.csv')\n",
        "emisi.head()"
      ],
      "execution_count": null,
      "outputs": [
        {
          "output_type": "execute_result",
          "data": {
            "text/html": [
              "<div>\n",
              "<style scoped>\n",
              "    .dataframe tbody tr th:only-of-type {\n",
              "        vertical-align: middle;\n",
              "    }\n",
              "\n",
              "    .dataframe tbody tr th {\n",
              "        vertical-align: top;\n",
              "    }\n",
              "\n",
              "    .dataframe thead th {\n",
              "        text-align: right;\n",
              "    }\n",
              "</style>\n",
              "<table border=\"1\" class=\"dataframe\">\n",
              "  <thead>\n",
              "    <tr style=\"text-align: right;\">\n",
              "      <th></th>\n",
              "      <th>Country</th>\n",
              "      <th>Data source</th>\n",
              "      <th>Sector</th>\n",
              "      <th>Gas</th>\n",
              "      <th>Unit</th>\n",
              "      <th>2018</th>\n",
              "      <th>2017</th>\n",
              "      <th>2016</th>\n",
              "      <th>2015</th>\n",
              "      <th>2014</th>\n",
              "      <th>2013</th>\n",
              "      <th>2012</th>\n",
              "      <th>2011</th>\n",
              "      <th>2010</th>\n",
              "      <th>2009</th>\n",
              "      <th>2008</th>\n",
              "      <th>2007</th>\n",
              "      <th>2006</th>\n",
              "      <th>2005</th>\n",
              "      <th>2004</th>\n",
              "      <th>2003</th>\n",
              "      <th>2002</th>\n",
              "      <th>2001</th>\n",
              "      <th>2000</th>\n",
              "      <th>1999</th>\n",
              "      <th>1998</th>\n",
              "      <th>1997</th>\n",
              "      <th>1996</th>\n",
              "      <th>1995</th>\n",
              "      <th>1994</th>\n",
              "      <th>1993</th>\n",
              "      <th>1992</th>\n",
              "      <th>1991</th>\n",
              "      <th>1990</th>\n",
              "    </tr>\n",
              "  </thead>\n",
              "  <tbody>\n",
              "    <tr>\n",
              "      <th>0</th>\n",
              "      <td>World</td>\n",
              "      <td>CAIT</td>\n",
              "      <td>Total including LUCF</td>\n",
              "      <td>All GHG</td>\n",
              "      <td>MtCO₂e</td>\n",
              "      <td>48939.71</td>\n",
              "      <td>47990.47</td>\n",
              "      <td>47413.95</td>\n",
              "      <td>46760.47</td>\n",
              "      <td>46647.29</td>\n",
              "      <td>46047.13</td>\n",
              "      <td>45427.61</td>\n",
              "      <td>44891.40</td>\n",
              "      <td>44758.58</td>\n",
              "      <td>43029.01</td>\n",
              "      <td>43003.97</td>\n",
              "      <td>42644.63</td>\n",
              "      <td>41831.65</td>\n",
              "      <td>40300.03</td>\n",
              "      <td>39437.14</td>\n",
              "      <td>37618.01</td>\n",
              "      <td>36727.84</td>\n",
              "      <td>35701.77</td>\n",
              "      <td>35607.73</td>\n",
              "      <td>34948.94</td>\n",
              "      <td>34929.19</td>\n",
              "      <td>35387.89</td>\n",
              "      <td>34068.91</td>\n",
              "      <td>33703.46</td>\n",
              "      <td>32977.47</td>\n",
              "      <td>32766.49</td>\n",
              "      <td>32670.32</td>\n",
              "      <td>32813.46</td>\n",
              "      <td>32645.91</td>\n",
              "    </tr>\n",
              "    <tr>\n",
              "      <th>1</th>\n",
              "      <td>World</td>\n",
              "      <td>CAIT</td>\n",
              "      <td>Total including LUCF</td>\n",
              "      <td>CO2</td>\n",
              "      <td>MtCO₂e</td>\n",
              "      <td>36441.55</td>\n",
              "      <td>35588.70</td>\n",
              "      <td>35160.60</td>\n",
              "      <td>34521.91</td>\n",
              "      <td>34558.59</td>\n",
              "      <td>34217.18</td>\n",
              "      <td>33620.34</td>\n",
              "      <td>33226.01</td>\n",
              "      <td>33328.38</td>\n",
              "      <td>31769.89</td>\n",
              "      <td>31856.76</td>\n",
              "      <td>31608.28</td>\n",
              "      <td>30905.93</td>\n",
              "      <td>29663.75</td>\n",
              "      <td>28826.48</td>\n",
              "      <td>27308.37</td>\n",
              "      <td>26486.63</td>\n",
              "      <td>25726.42</td>\n",
              "      <td>25637.87</td>\n",
              "      <td>24957.30</td>\n",
              "      <td>24895.32</td>\n",
              "      <td>25292.92</td>\n",
              "      <td>24214.92</td>\n",
              "      <td>23890.22</td>\n",
              "      <td>23260.29</td>\n",
              "      <td>23124.00</td>\n",
              "      <td>22988.29</td>\n",
              "      <td>23056.40</td>\n",
              "      <td>22849.92</td>\n",
              "    </tr>\n",
              "    <tr>\n",
              "      <th>2</th>\n",
              "      <td>China</td>\n",
              "      <td>CAIT</td>\n",
              "      <td>Total including LUCF</td>\n",
              "      <td>All GHG</td>\n",
              "      <td>MtCO₂e</td>\n",
              "      <td>11705.81</td>\n",
              "      <td>11408.26</td>\n",
              "      <td>11207.66</td>\n",
              "      <td>11149.68</td>\n",
              "      <td>11155.76</td>\n",
              "      <td>11144.76</td>\n",
              "      <td>10690.04</td>\n",
              "      <td>10364.83</td>\n",
              "      <td>9872.37</td>\n",
              "      <td>9046.19</td>\n",
              "      <td>8455.65</td>\n",
              "      <td>8165.43</td>\n",
              "      <td>7547.54</td>\n",
              "      <td>6862.81</td>\n",
              "      <td>6135.95</td>\n",
              "      <td>5386.89</td>\n",
              "      <td>4769.03</td>\n",
              "      <td>4459.91</td>\n",
              "      <td>4249.70</td>\n",
              "      <td>4053.37</td>\n",
              "      <td>4103.23</td>\n",
              "      <td>3963.61</td>\n",
              "      <td>3954.75</td>\n",
              "      <td>3918.30</td>\n",
              "      <td>3528.81</td>\n",
              "      <td>3377.79</td>\n",
              "      <td>3154.54</td>\n",
              "      <td>3023.38</td>\n",
              "      <td>2873.71</td>\n",
              "    </tr>\n",
              "    <tr>\n",
              "      <th>3</th>\n",
              "      <td>China</td>\n",
              "      <td>CAIT</td>\n",
              "      <td>Total including LUCF</td>\n",
              "      <td>CO2</td>\n",
              "      <td>MtCO₂e</td>\n",
              "      <td>9663.36</td>\n",
              "      <td>9367.67</td>\n",
              "      <td>9164.21</td>\n",
              "      <td>9120.27</td>\n",
              "      <td>9184.77</td>\n",
              "      <td>9226.51</td>\n",
              "      <td>8823.05</td>\n",
              "      <td>8568.09</td>\n",
              "      <td>8138.34</td>\n",
              "      <td>7382.89</td>\n",
              "      <td>6862.78</td>\n",
              "      <td>6655.98</td>\n",
              "      <td>6099.67</td>\n",
              "      <td>5486.88</td>\n",
              "      <td>4789.59</td>\n",
              "      <td>4081.05</td>\n",
              "      <td>3476.08</td>\n",
              "      <td>3194.50</td>\n",
              "      <td>2994.73</td>\n",
              "      <td>2799.84</td>\n",
              "      <td>2882.75</td>\n",
              "      <td>2779.27</td>\n",
              "      <td>2715.50</td>\n",
              "      <td>2735.48</td>\n",
              "      <td>2414.50</td>\n",
              "      <td>2294.12</td>\n",
              "      <td>2068.77</td>\n",
              "      <td>1952.78</td>\n",
              "      <td>1823.96</td>\n",
              "    </tr>\n",
              "    <tr>\n",
              "      <th>4</th>\n",
              "      <td>World</td>\n",
              "      <td>CAIT</td>\n",
              "      <td>Total including LUCF</td>\n",
              "      <td>CH4</td>\n",
              "      <td>MtCO₂e</td>\n",
              "      <td>8298.27</td>\n",
              "      <td>8228.64</td>\n",
              "      <td>8172.01</td>\n",
              "      <td>8240.68</td>\n",
              "      <td>8161.13</td>\n",
              "      <td>8001.46</td>\n",
              "      <td>8006.94</td>\n",
              "      <td>7934.65</td>\n",
              "      <td>7816.38</td>\n",
              "      <td>7772.89</td>\n",
              "      <td>7677.21</td>\n",
              "      <td>7582.12</td>\n",
              "      <td>7590.39</td>\n",
              "      <td>7373.14</td>\n",
              "      <td>7384.47</td>\n",
              "      <td>7192.59</td>\n",
              "      <td>7164.50</td>\n",
              "      <td>6978.29</td>\n",
              "      <td>6990.50</td>\n",
              "      <td>7016.09</td>\n",
              "      <td>7043.09</td>\n",
              "      <td>7166.15</td>\n",
              "      <td>6944.08</td>\n",
              "      <td>6946.31</td>\n",
              "      <td>6936.72</td>\n",
              "      <td>6962.51</td>\n",
              "      <td>6983.94</td>\n",
              "      <td>7048.78</td>\n",
              "      <td>7072.53</td>\n",
              "    </tr>\n",
              "  </tbody>\n",
              "</table>\n",
              "</div>"
            ],
            "text/plain": [
              "  Country Data source                Sector  ...      1992      1991      1990\n",
              "0   World        CAIT  Total including LUCF  ...  32670.32  32813.46  32645.91\n",
              "1   World        CAIT  Total including LUCF  ...  22988.29  23056.40  22849.92\n",
              "2   China        CAIT  Total including LUCF  ...   3154.54   3023.38   2873.71\n",
              "3   China        CAIT  Total including LUCF  ...   2068.77   1952.78   1823.96\n",
              "4   World        CAIT  Total including LUCF  ...   6983.94   7048.78   7072.53\n",
              "\n",
              "[5 rows x 34 columns]"
            ]
          },
          "metadata": {
            "tags": []
          },
          "execution_count": 139
        }
      ]
    },
    {
      "cell_type": "code",
      "metadata": {
        "id": "tbiJIK8JoxCR"
      },
      "source": [
        "emisi.set_index('Country',inplace=True)\n",
        "emisi_asean=emisi.loc[Asean3]\n",
        "emisi_asean.reset_index(inplace=True)\n",
        "emisi_asean.set_index('Gas',inplace=True)\n",
        "emisi_asean2=emisi_asean.loc['All GHG']\n",
        "emisi_asean2.reset_index(inplace=True)\n",
        "emisi_asean2=emisi_asean2.drop(['Gas', 'Data source','Sector','Unit'], axis=1)\n",
        "emisi_asean2.set_index('Country',inplace=True)\n",
        "emisi_asean3=emisi_asean2.transpose()\n",
        "emisi_asean3.reset_index(inplace=True)\n",
        "emisi_asean3.rename(columns={\"index\": \"Year\"},inplace=True)\n",
        "emisi_asean3.sort_values(by='Year',ascending=True,inplace=True)\n",
        "emisi_asean3.set_index('Year',inplace=True)"
      ],
      "execution_count": null,
      "outputs": []
    },
    {
      "cell_type": "code",
      "metadata": {
        "colab": {
          "base_uri": "https://localhost:8080/",
          "height": 235
        },
        "id": "EQBpunqap7hn",
        "outputId": "1d42c3ca-99ae-4536-c641-534c381b6fdc"
      },
      "source": [
        "emisi_asean3.head()"
      ],
      "execution_count": null,
      "outputs": [
        {
          "output_type": "execute_result",
          "data": {
            "text/html": [
              "<div>\n",
              "<style scoped>\n",
              "    .dataframe tbody tr th:only-of-type {\n",
              "        vertical-align: middle;\n",
              "    }\n",
              "\n",
              "    .dataframe tbody tr th {\n",
              "        vertical-align: top;\n",
              "    }\n",
              "\n",
              "    .dataframe thead th {\n",
              "        text-align: right;\n",
              "    }\n",
              "</style>\n",
              "<table border=\"1\" class=\"dataframe\">\n",
              "  <thead>\n",
              "    <tr style=\"text-align: right;\">\n",
              "      <th>Country</th>\n",
              "      <th>Indonesia</th>\n",
              "      <th>Malaysia</th>\n",
              "      <th>Philippines</th>\n",
              "      <th>Thailand</th>\n",
              "      <th>Singapore</th>\n",
              "      <th>Brunei</th>\n",
              "      <th>Vietnam</th>\n",
              "      <th>Laos</th>\n",
              "      <th>Cambodia</th>\n",
              "      <th>Myanmar</th>\n",
              "    </tr>\n",
              "    <tr>\n",
              "      <th>Year</th>\n",
              "      <th></th>\n",
              "      <th></th>\n",
              "      <th></th>\n",
              "      <th></th>\n",
              "      <th></th>\n",
              "      <th></th>\n",
              "      <th></th>\n",
              "      <th></th>\n",
              "      <th></th>\n",
              "      <th></th>\n",
              "    </tr>\n",
              "  </thead>\n",
              "  <tbody>\n",
              "    <tr>\n",
              "      <th>1990</th>\n",
              "      <td>1257.10</td>\n",
              "      <td>207.11</td>\n",
              "      <td>98.21</td>\n",
              "      <td>174.02</td>\n",
              "      <td>31.56</td>\n",
              "      <td>15.51</td>\n",
              "      <td>1.17</td>\n",
              "      <td>20.45</td>\n",
              "      <td>25.99</td>\n",
              "      <td>207.89</td>\n",
              "    </tr>\n",
              "    <tr>\n",
              "      <th>1991</th>\n",
              "      <td>1274.43</td>\n",
              "      <td>214.67</td>\n",
              "      <td>98.27</td>\n",
              "      <td>186.02</td>\n",
              "      <td>34.74</td>\n",
              "      <td>15.11</td>\n",
              "      <td>4.03</td>\n",
              "      <td>20.31</td>\n",
              "      <td>25.80</td>\n",
              "      <td>207.34</td>\n",
              "    </tr>\n",
              "    <tr>\n",
              "      <th>1992</th>\n",
              "      <td>1295.01</td>\n",
              "      <td>221.40</td>\n",
              "      <td>100.41</td>\n",
              "      <td>197.92</td>\n",
              "      <td>37.34</td>\n",
              "      <td>15.45</td>\n",
              "      <td>6.54</td>\n",
              "      <td>20.56</td>\n",
              "      <td>26.45</td>\n",
              "      <td>209.89</td>\n",
              "    </tr>\n",
              "    <tr>\n",
              "      <th>1993</th>\n",
              "      <td>1311.27</td>\n",
              "      <td>224.79</td>\n",
              "      <td>105.92</td>\n",
              "      <td>214.03</td>\n",
              "      <td>44.23</td>\n",
              "      <td>15.86</td>\n",
              "      <td>13.23</td>\n",
              "      <td>20.52</td>\n",
              "      <td>27.38</td>\n",
              "      <td>212.57</td>\n",
              "    </tr>\n",
              "    <tr>\n",
              "      <th>1994</th>\n",
              "      <td>1327.87</td>\n",
              "      <td>231.70</td>\n",
              "      <td>113.69</td>\n",
              "      <td>228.84</td>\n",
              "      <td>47.80</td>\n",
              "      <td>16.28</td>\n",
              "      <td>18.85</td>\n",
              "      <td>20.83</td>\n",
              "      <td>26.30</td>\n",
              "      <td>215.09</td>\n",
              "    </tr>\n",
              "  </tbody>\n",
              "</table>\n",
              "</div>"
            ],
            "text/plain": [
              "Country  Indonesia  Malaysia  Philippines  ...   Laos  Cambodia  Myanmar\n",
              "Year                                       ...                          \n",
              "1990       1257.10    207.11        98.21  ...  20.45     25.99   207.89\n",
              "1991       1274.43    214.67        98.27  ...  20.31     25.80   207.34\n",
              "1992       1295.01    221.40       100.41  ...  20.56     26.45   209.89\n",
              "1993       1311.27    224.79       105.92  ...  20.52     27.38   212.57\n",
              "1994       1327.87    231.70       113.69  ...  20.83     26.30   215.09\n",
              "\n",
              "[5 rows x 10 columns]"
            ]
          },
          "metadata": {
            "tags": []
          },
          "execution_count": 141
        }
      ]
    },
    {
      "cell_type": "code",
      "metadata": {
        "colab": {
          "base_uri": "https://localhost:8080/"
        },
        "id": "wdbeRhNoXrAs",
        "outputId": "ee52df55-68a2-4ed3-a050-fcdd0316ed4d"
      },
      "source": [
        "emisi_asean3.dtypes"
      ],
      "execution_count": null,
      "outputs": [
        {
          "output_type": "execute_result",
          "data": {
            "text/plain": [
              "Country\n",
              "Indonesia      float64\n",
              "Malaysia       float64\n",
              "Philippines    float64\n",
              "Thailand       float64\n",
              "Singapore      float64\n",
              "Brunei         float64\n",
              "Vietnam        float64\n",
              "Laos           float64\n",
              "Cambodia       float64\n",
              "Myanmar        float64\n",
              "dtype: object"
            ]
          },
          "metadata": {
            "tags": []
          },
          "execution_count": 142
        }
      ]
    },
    {
      "cell_type": "code",
      "metadata": {
        "colab": {
          "base_uri": "https://localhost:8080/",
          "height": 235
        },
        "id": "HeH559yiX97p",
        "outputId": "7d4d2c32-4f1f-48f4-c952-7dee59d1d94f"
      },
      "source": [
        "emisi_asean3['Rata-Rata']=emisi_asean3.mean(axis=1)\n",
        "emisi_asean3.head()"
      ],
      "execution_count": null,
      "outputs": [
        {
          "output_type": "execute_result",
          "data": {
            "text/html": [
              "<div>\n",
              "<style scoped>\n",
              "    .dataframe tbody tr th:only-of-type {\n",
              "        vertical-align: middle;\n",
              "    }\n",
              "\n",
              "    .dataframe tbody tr th {\n",
              "        vertical-align: top;\n",
              "    }\n",
              "\n",
              "    .dataframe thead th {\n",
              "        text-align: right;\n",
              "    }\n",
              "</style>\n",
              "<table border=\"1\" class=\"dataframe\">\n",
              "  <thead>\n",
              "    <tr style=\"text-align: right;\">\n",
              "      <th>Country</th>\n",
              "      <th>Indonesia</th>\n",
              "      <th>Malaysia</th>\n",
              "      <th>Philippines</th>\n",
              "      <th>Thailand</th>\n",
              "      <th>Singapore</th>\n",
              "      <th>Brunei</th>\n",
              "      <th>Vietnam</th>\n",
              "      <th>Laos</th>\n",
              "      <th>Cambodia</th>\n",
              "      <th>Myanmar</th>\n",
              "      <th>Rata-Rata</th>\n",
              "    </tr>\n",
              "    <tr>\n",
              "      <th>Year</th>\n",
              "      <th></th>\n",
              "      <th></th>\n",
              "      <th></th>\n",
              "      <th></th>\n",
              "      <th></th>\n",
              "      <th></th>\n",
              "      <th></th>\n",
              "      <th></th>\n",
              "      <th></th>\n",
              "      <th></th>\n",
              "      <th></th>\n",
              "    </tr>\n",
              "  </thead>\n",
              "  <tbody>\n",
              "    <tr>\n",
              "      <th>1990</th>\n",
              "      <td>1257.10</td>\n",
              "      <td>207.11</td>\n",
              "      <td>98.21</td>\n",
              "      <td>174.02</td>\n",
              "      <td>31.56</td>\n",
              "      <td>15.51</td>\n",
              "      <td>1.17</td>\n",
              "      <td>20.45</td>\n",
              "      <td>25.99</td>\n",
              "      <td>207.89</td>\n",
              "      <td>203.901</td>\n",
              "    </tr>\n",
              "    <tr>\n",
              "      <th>1991</th>\n",
              "      <td>1274.43</td>\n",
              "      <td>214.67</td>\n",
              "      <td>98.27</td>\n",
              "      <td>186.02</td>\n",
              "      <td>34.74</td>\n",
              "      <td>15.11</td>\n",
              "      <td>4.03</td>\n",
              "      <td>20.31</td>\n",
              "      <td>25.80</td>\n",
              "      <td>207.34</td>\n",
              "      <td>208.072</td>\n",
              "    </tr>\n",
              "    <tr>\n",
              "      <th>1992</th>\n",
              "      <td>1295.01</td>\n",
              "      <td>221.40</td>\n",
              "      <td>100.41</td>\n",
              "      <td>197.92</td>\n",
              "      <td>37.34</td>\n",
              "      <td>15.45</td>\n",
              "      <td>6.54</td>\n",
              "      <td>20.56</td>\n",
              "      <td>26.45</td>\n",
              "      <td>209.89</td>\n",
              "      <td>213.097</td>\n",
              "    </tr>\n",
              "    <tr>\n",
              "      <th>1993</th>\n",
              "      <td>1311.27</td>\n",
              "      <td>224.79</td>\n",
              "      <td>105.92</td>\n",
              "      <td>214.03</td>\n",
              "      <td>44.23</td>\n",
              "      <td>15.86</td>\n",
              "      <td>13.23</td>\n",
              "      <td>20.52</td>\n",
              "      <td>27.38</td>\n",
              "      <td>212.57</td>\n",
              "      <td>218.980</td>\n",
              "    </tr>\n",
              "    <tr>\n",
              "      <th>1994</th>\n",
              "      <td>1327.87</td>\n",
              "      <td>231.70</td>\n",
              "      <td>113.69</td>\n",
              "      <td>228.84</td>\n",
              "      <td>47.80</td>\n",
              "      <td>16.28</td>\n",
              "      <td>18.85</td>\n",
              "      <td>20.83</td>\n",
              "      <td>26.30</td>\n",
              "      <td>215.09</td>\n",
              "      <td>224.725</td>\n",
              "    </tr>\n",
              "  </tbody>\n",
              "</table>\n",
              "</div>"
            ],
            "text/plain": [
              "Country  Indonesia  Malaysia  Philippines  ...  Cambodia  Myanmar  Rata-Rata\n",
              "Year                                       ...                              \n",
              "1990       1257.10    207.11        98.21  ...     25.99   207.89    203.901\n",
              "1991       1274.43    214.67        98.27  ...     25.80   207.34    208.072\n",
              "1992       1295.01    221.40       100.41  ...     26.45   209.89    213.097\n",
              "1993       1311.27    224.79       105.92  ...     27.38   212.57    218.980\n",
              "1994       1327.87    231.70       113.69  ...     26.30   215.09    224.725\n",
              "\n",
              "[5 rows x 11 columns]"
            ]
          },
          "metadata": {
            "tags": []
          },
          "execution_count": 143
        }
      ]
    },
    {
      "cell_type": "code",
      "metadata": {
        "colab": {
          "base_uri": "https://localhost:8080/",
          "height": 388
        },
        "id": "PuCrUj8QYDr-",
        "outputId": "c3fa6471-07d4-466a-ded7-f0c64bd1610b"
      },
      "source": [
        "emi_p = emisi_asean3.plot(subplots=False, figsize=(12,6))"
      ],
      "execution_count": null,
      "outputs": [
        {
          "output_type": "display_data",
          "data": {
            "image/png": "[encoded data removed]",
            "text/plain": [
              "<Figure size 864x432 with 1 Axes>"
            ]
          },
          "metadata": {
            "tags": []
          }
        }
      ]
    },
    {
      "cell_type": "code",
      "metadata": {
        "colab": {
          "base_uri": "https://localhost:8080/",
          "height": 501
        },
        "id": "rOlKdFkCYMhR",
        "outputId": "50769ecc-dea2-45a3-981b-5a9e66e7949d"
      },
      "source": [
        "plt.figure(figsize=(15,7.5))\n",
        "emi_q=sns.lineplot(x='Year', y='Rata-Rata', data=emisi_asean3,palette='Set1')\n",
        "\n",
        "emi_q.set(xlabel =\"Year\",ylabel='Tonnes of Carbon Dioxide-Equivalents (MtCO₂e)',title ='Total Greenhouse Gas Emissions, Including Land Use and Forestry')\n",
        "plt.xticks(rotation=45)\n",
        "emi_q.figure.savefig('lineemisi.png')\n",
        "plt.show()"
      ],
      "execution_count": null,
      "outputs": [
        {
          "output_type": "display_data",
          "data": {
            "image/png": "[encoded data removed]",
            "text/plain": [
              "<Figure size 1080x540 with 1 Axes>"
            ]
          },
          "metadata": {
            "tags": []
          }
        }
      ]
    },
    {
      "cell_type": "markdown",
      "metadata": {
        "id": "tnFit0P8Px2G"
      },
      "source": [
        "## 4. Data About Greenhouse Gas Emissions By Sector\n",
        "\n",
        "Source:\n",
        "*   https://ourworldindata.org/grapher/ghg-emissions-by-sector\n",
        "*   https://www.climatewatchdata.org/data-explorer/historical-emissions\n",
        "\n",
        "Keterangan :\n",
        "\n",
        "Greenhouse gas emissions are measured in tonnes of carbon dioxide-equivalents (CO₂e).\n",
        "\n",
        "Emisi gas rumah kaca diukur dalam ton setara karbon dioksida (CO₂e)."
      ]
    },
    {
      "cell_type": "code",
      "metadata": {
        "colab": {
          "base_uri": "https://localhost:8080/",
          "height": 357
        },
        "id": "yZoFJeR0P5dL",
        "outputId": "f69f3df9-811a-4086-8935-02437d27fbfd"
      },
      "source": [
        "ghgemisi=pd.read_csv('https://raw.githubusercontent.com/Jauhar-Hakim571/Tugas-Akhir-EDA/main/ghg-emissions-by-sector.csv')\n",
        "ghgemisi.set_index('Year',inplace=True)\n",
        "ghgemisi.head()"
      ],
      "execution_count": null,
      "outputs": [
        {
          "output_type": "execute_result",
          "data": {
            "text/html": [
              "<div>\n",
              "<style scoped>\n",
              "    .dataframe tbody tr th:only-of-type {\n",
              "        vertical-align: middle;\n",
              "    }\n",
              "\n",
              "    .dataframe tbody tr th {\n",
              "        vertical-align: top;\n",
              "    }\n",
              "\n",
              "    .dataframe thead th {\n",
              "        text-align: right;\n",
              "    }\n",
              "</style>\n",
              "<table border=\"1\" class=\"dataframe\">\n",
              "  <thead>\n",
              "    <tr style=\"text-align: right;\">\n",
              "      <th></th>\n",
              "      <th>Entity</th>\n",
              "      <th>Code</th>\n",
              "      <th>Agriculture (GHG Emissions, CAIT)</th>\n",
              "      <th>Land-Use Change and Forestry (GHG Emissions, CAIT)</th>\n",
              "      <th>Waste (GHG Emissions, CAIT)</th>\n",
              "      <th>Industry (GHG Emissions, CAIT)</th>\n",
              "      <th>Manufacturing/Construction energy (GHG Emissions, CAIT)</th>\n",
              "      <th>Transport (GHG Emissions, CAIT)</th>\n",
              "      <th>Electricity &amp; Heat (GHG Emissions, CAIT)</th>\n",
              "      <th>Buildings (GHG Emissions, CAIT)</th>\n",
              "      <th>Fugitive from energy production (GHG Emissions, CAIT)</th>\n",
              "      <th>Other Fuel Combustion (GHG Emissions, CAIT)</th>\n",
              "      <th>Bunker Fuels (GHG Emissions, CAIT)</th>\n",
              "    </tr>\n",
              "    <tr>\n",
              "      <th>Year</th>\n",
              "      <th></th>\n",
              "      <th></th>\n",
              "      <th></th>\n",
              "      <th></th>\n",
              "      <th></th>\n",
              "      <th></th>\n",
              "      <th></th>\n",
              "      <th></th>\n",
              "      <th></th>\n",
              "      <th></th>\n",
              "      <th></th>\n",
              "      <th></th>\n",
              "      <th></th>\n",
              "    </tr>\n",
              "  </thead>\n",
              "  <tbody>\n",
              "    <tr>\n",
              "      <th>1990</th>\n",
              "      <td>Afghanistan</td>\n",
              "      <td>AFG</td>\n",
              "      <td>8090000.0</td>\n",
              "      <td>0.0</td>\n",
              "      <td>1230000.0</td>\n",
              "      <td>50000.0</td>\n",
              "      <td>NaN</td>\n",
              "      <td>NaN</td>\n",
              "      <td>NaN</td>\n",
              "      <td>NaN</td>\n",
              "      <td>610000.0</td>\n",
              "      <td>2630000.0</td>\n",
              "      <td>NaN</td>\n",
              "    </tr>\n",
              "    <tr>\n",
              "      <th>1991</th>\n",
              "      <td>Afghanistan</td>\n",
              "      <td>AFG</td>\n",
              "      <td>8410000.0</td>\n",
              "      <td>0.0</td>\n",
              "      <td>1320000.0</td>\n",
              "      <td>50000.0</td>\n",
              "      <td>NaN</td>\n",
              "      <td>NaN</td>\n",
              "      <td>NaN</td>\n",
              "      <td>NaN</td>\n",
              "      <td>520000.0</td>\n",
              "      <td>2400000.0</td>\n",
              "      <td>NaN</td>\n",
              "    </tr>\n",
              "    <tr>\n",
              "      <th>1992</th>\n",
              "      <td>Afghanistan</td>\n",
              "      <td>AFG</td>\n",
              "      <td>8420000.0</td>\n",
              "      <td>0.0</td>\n",
              "      <td>1400000.0</td>\n",
              "      <td>60000.0</td>\n",
              "      <td>NaN</td>\n",
              "      <td>NaN</td>\n",
              "      <td>NaN</td>\n",
              "      <td>NaN</td>\n",
              "      <td>220000.0</td>\n",
              "      <td>2180000.0</td>\n",
              "      <td>NaN</td>\n",
              "    </tr>\n",
              "    <tr>\n",
              "      <th>1993</th>\n",
              "      <td>Afghanistan</td>\n",
              "      <td>AFG</td>\n",
              "      <td>8500000.0</td>\n",
              "      <td>0.0</td>\n",
              "      <td>1490000.0</td>\n",
              "      <td>60000.0</td>\n",
              "      <td>NaN</td>\n",
              "      <td>NaN</td>\n",
              "      <td>NaN</td>\n",
              "      <td>NaN</td>\n",
              "      <td>160000.0</td>\n",
              "      <td>1950000.0</td>\n",
              "      <td>NaN</td>\n",
              "    </tr>\n",
              "    <tr>\n",
              "      <th>1994</th>\n",
              "      <td>Afghanistan</td>\n",
              "      <td>AFG</td>\n",
              "      <td>8540000.0</td>\n",
              "      <td>0.0</td>\n",
              "      <td>1580000.0</td>\n",
              "      <td>70000.0</td>\n",
              "      <td>NaN</td>\n",
              "      <td>NaN</td>\n",
              "      <td>NaN</td>\n",
              "      <td>NaN</td>\n",
              "      <td>120000.0</td>\n",
              "      <td>1720000.0</td>\n",
              "      <td>NaN</td>\n",
              "    </tr>\n",
              "  </tbody>\n",
              "</table>\n",
              "</div>"
            ],
            "text/plain": [
              "           Entity  ... Bunker Fuels (GHG Emissions, CAIT)\n",
              "Year               ...                                   \n",
              "1990  Afghanistan  ...                                NaN\n",
              "1991  Afghanistan  ...                                NaN\n",
              "1992  Afghanistan  ...                                NaN\n",
              "1993  Afghanistan  ...                                NaN\n",
              "1994  Afghanistan  ...                                NaN\n",
              "\n",
              "[5 rows x 13 columns]"
            ]
          },
          "metadata": {
            "tags": []
          },
          "execution_count": 146
        }
      ]
    },
    {
      "cell_type": "code",
      "metadata": {
        "colab": {
          "base_uri": "https://localhost:8080/",
          "height": 357
        },
        "id": "7Sbw3y-HQGgK",
        "outputId": "47fa1a27-2990-4194-c283-fe54d43f4b8b"
      },
      "source": [
        "ghgemisi_2016 = ghgemisi.loc[2016]\n",
        "ghgemisi_2016.head()"
      ],
      "execution_count": null,
      "outputs": [
        {
          "output_type": "execute_result",
          "data": {
            "text/html": [
              "<div>\n",
              "<style scoped>\n",
              "    .dataframe tbody tr th:only-of-type {\n",
              "        vertical-align: middle;\n",
              "    }\n",
              "\n",
              "    .dataframe tbody tr th {\n",
              "        vertical-align: top;\n",
              "    }\n",
              "\n",
              "    .dataframe thead th {\n",
              "        text-align: right;\n",
              "    }\n",
              "</style>\n",
              "<table border=\"1\" class=\"dataframe\">\n",
              "  <thead>\n",
              "    <tr style=\"text-align: right;\">\n",
              "      <th></th>\n",
              "      <th>Entity</th>\n",
              "      <th>Code</th>\n",
              "      <th>Agriculture (GHG Emissions, CAIT)</th>\n",
              "      <th>Land-Use Change and Forestry (GHG Emissions, CAIT)</th>\n",
              "      <th>Waste (GHG Emissions, CAIT)</th>\n",
              "      <th>Industry (GHG Emissions, CAIT)</th>\n",
              "      <th>Manufacturing/Construction energy (GHG Emissions, CAIT)</th>\n",
              "      <th>Transport (GHG Emissions, CAIT)</th>\n",
              "      <th>Electricity &amp; Heat (GHG Emissions, CAIT)</th>\n",
              "      <th>Buildings (GHG Emissions, CAIT)</th>\n",
              "      <th>Fugitive from energy production (GHG Emissions, CAIT)</th>\n",
              "      <th>Other Fuel Combustion (GHG Emissions, CAIT)</th>\n",
              "      <th>Bunker Fuels (GHG Emissions, CAIT)</th>\n",
              "    </tr>\n",
              "    <tr>\n",
              "      <th>Year</th>\n",
              "      <th></th>\n",
              "      <th></th>\n",
              "      <th></th>\n",
              "      <th></th>\n",
              "      <th></th>\n",
              "      <th></th>\n",
              "      <th></th>\n",
              "      <th></th>\n",
              "      <th></th>\n",
              "      <th></th>\n",
              "      <th></th>\n",
              "      <th></th>\n",
              "      <th></th>\n",
              "    </tr>\n",
              "  </thead>\n",
              "  <tbody>\n",
              "    <tr>\n",
              "      <th>2016</th>\n",
              "      <td>Afghanistan</td>\n",
              "      <td>AFG</td>\n",
              "      <td>15350000.0</td>\n",
              "      <td>0.0</td>\n",
              "      <td>3370000.0</td>\n",
              "      <td>740000.0</td>\n",
              "      <td>NaN</td>\n",
              "      <td>NaN</td>\n",
              "      <td>NaN</td>\n",
              "      <td>NaN</td>\n",
              "      <td>2190000.0</td>\n",
              "      <td>66390000.0</td>\n",
              "      <td>NaN</td>\n",
              "    </tr>\n",
              "    <tr>\n",
              "      <th>2016</th>\n",
              "      <td>Albania</td>\n",
              "      <td>ALB</td>\n",
              "      <td>3210000.0</td>\n",
              "      <td>-390000.0</td>\n",
              "      <td>980000.0</td>\n",
              "      <td>1390000.0</td>\n",
              "      <td>600000.0</td>\n",
              "      <td>2300000.0</td>\n",
              "      <td>100000.0</td>\n",
              "      <td>300000.0</td>\n",
              "      <td>0.0</td>\n",
              "      <td>610000.0</td>\n",
              "      <td>100000.0</td>\n",
              "    </tr>\n",
              "    <tr>\n",
              "      <th>2016</th>\n",
              "      <td>Algeria</td>\n",
              "      <td>DZA</td>\n",
              "      <td>12420000.0</td>\n",
              "      <td>-380000.0</td>\n",
              "      <td>13940000.0</td>\n",
              "      <td>16810000.0</td>\n",
              "      <td>10900000.0</td>\n",
              "      <td>45100000.0</td>\n",
              "      <td>47800000.0</td>\n",
              "      <td>20700000.0</td>\n",
              "      <td>38200000.0</td>\n",
              "      <td>4800000.0</td>\n",
              "      <td>2200000.0</td>\n",
              "    </tr>\n",
              "    <tr>\n",
              "      <th>2016</th>\n",
              "      <td>Andorra</td>\n",
              "      <td>AND</td>\n",
              "      <td>0.0</td>\n",
              "      <td>-20000.0</td>\n",
              "      <td>50000.0</td>\n",
              "      <td>60000.0</td>\n",
              "      <td>NaN</td>\n",
              "      <td>NaN</td>\n",
              "      <td>NaN</td>\n",
              "      <td>NaN</td>\n",
              "      <td>NaN</td>\n",
              "      <td>0.0</td>\n",
              "      <td>NaN</td>\n",
              "    </tr>\n",
              "    <tr>\n",
              "      <th>2016</th>\n",
              "      <td>Angola</td>\n",
              "      <td>AGO</td>\n",
              "      <td>37390000.0</td>\n",
              "      <td>89250000.0</td>\n",
              "      <td>1640000.0</td>\n",
              "      <td>1350000.0</td>\n",
              "      <td>2500000.0</td>\n",
              "      <td>8400000.0</td>\n",
              "      <td>4300000.0</td>\n",
              "      <td>4300000.0</td>\n",
              "      <td>30110000.0</td>\n",
              "      <td>790000.0</td>\n",
              "      <td>1600000.0</td>\n",
              "    </tr>\n",
              "  </tbody>\n",
              "</table>\n",
              "</div>"
            ],
            "text/plain": [
              "           Entity  ... Bunker Fuels (GHG Emissions, CAIT)\n",
              "Year               ...                                   \n",
              "2016  Afghanistan  ...                                NaN\n",
              "2016      Albania  ...                           100000.0\n",
              "2016      Algeria  ...                          2200000.0\n",
              "2016      Andorra  ...                                NaN\n",
              "2016       Angola  ...                          1600000.0\n",
              "\n",
              "[5 rows x 13 columns]"
            ]
          },
          "metadata": {
            "tags": []
          },
          "execution_count": 147
        }
      ]
    },
    {
      "cell_type": "code",
      "metadata": {
        "colab": {
          "base_uri": "https://localhost:8080/",
          "height": 357
        },
        "id": "0qxzbE7CQNKL",
        "outputId": "1ee6c7cb-439f-4842-fab3-fa2abc0f6d28"
      },
      "source": [
        "ghgemisi_2016.set_index('Entity',inplace=True)\n",
        "ghgemisi_asean = ghgemisi_2016.loc[Asean3]\n",
        "ghgemisi_asean.drop(\"Code\", axis=1, inplace=True)\n",
        "ghgemisi_asean.head()"
      ],
      "execution_count": null,
      "outputs": [
        {
          "output_type": "execute_result",
          "data": {
            "text/html": [
              "<div>\n",
              "<style scoped>\n",
              "    .dataframe tbody tr th:only-of-type {\n",
              "        vertical-align: middle;\n",
              "    }\n",
              "\n",
              "    .dataframe tbody tr th {\n",
              "        vertical-align: top;\n",
              "    }\n",
              "\n",
              "    .dataframe thead th {\n",
              "        text-align: right;\n",
              "    }\n",
              "</style>\n",
              "<table border=\"1\" class=\"dataframe\">\n",
              "  <thead>\n",
              "    <tr style=\"text-align: right;\">\n",
              "      <th></th>\n",
              "      <th>Agriculture (GHG Emissions, CAIT)</th>\n",
              "      <th>Land-Use Change and Forestry (GHG Emissions, CAIT)</th>\n",
              "      <th>Waste (GHG Emissions, CAIT)</th>\n",
              "      <th>Industry (GHG Emissions, CAIT)</th>\n",
              "      <th>Manufacturing/Construction energy (GHG Emissions, CAIT)</th>\n",
              "      <th>Transport (GHG Emissions, CAIT)</th>\n",
              "      <th>Electricity &amp; Heat (GHG Emissions, CAIT)</th>\n",
              "      <th>Buildings (GHG Emissions, CAIT)</th>\n",
              "      <th>Fugitive from energy production (GHG Emissions, CAIT)</th>\n",
              "      <th>Other Fuel Combustion (GHG Emissions, CAIT)</th>\n",
              "      <th>Bunker Fuels (GHG Emissions, CAIT)</th>\n",
              "    </tr>\n",
              "    <tr>\n",
              "      <th>Entity</th>\n",
              "      <th></th>\n",
              "      <th></th>\n",
              "      <th></th>\n",
              "      <th></th>\n",
              "      <th></th>\n",
              "      <th></th>\n",
              "      <th></th>\n",
              "      <th></th>\n",
              "      <th></th>\n",
              "      <th></th>\n",
              "      <th></th>\n",
              "    </tr>\n",
              "  </thead>\n",
              "  <tbody>\n",
              "    <tr>\n",
              "      <th>Indonesia</th>\n",
              "      <td>190220000.0</td>\n",
              "      <td>1.363070e+09</td>\n",
              "      <td>129470000.0</td>\n",
              "      <td>33750000.0</td>\n",
              "      <td>84200000.0</td>\n",
              "      <td>134500000.0</td>\n",
              "      <td>206600000.0</td>\n",
              "      <td>23100000.0</td>\n",
              "      <td>33250000.0</td>\n",
              "      <td>30950000.0</td>\n",
              "      <td>3600000.0</td>\n",
              "    </tr>\n",
              "    <tr>\n",
              "      <th>Malaysia</th>\n",
              "      <td>13250000.0</td>\n",
              "      <td>-1.302400e+08</td>\n",
              "      <td>19940000.0</td>\n",
              "      <td>17600000.0</td>\n",
              "      <td>29600000.0</td>\n",
              "      <td>62800000.0</td>\n",
              "      <td>118500000.0</td>\n",
              "      <td>4100000.0</td>\n",
              "      <td>21180000.0</td>\n",
              "      <td>4210000.0</td>\n",
              "      <td>8200000.0</td>\n",
              "    </tr>\n",
              "    <tr>\n",
              "      <th>Philippines</th>\n",
              "      <td>59000000.0</td>\n",
              "      <td>-5.969000e+07</td>\n",
              "      <td>13310000.0</td>\n",
              "      <td>15780000.0</td>\n",
              "      <td>16800000.0</td>\n",
              "      <td>33300000.0</td>\n",
              "      <td>56100000.0</td>\n",
              "      <td>7900000.0</td>\n",
              "      <td>620000.0</td>\n",
              "      <td>6300000.0</td>\n",
              "      <td>4100000.0</td>\n",
              "    </tr>\n",
              "    <tr>\n",
              "      <th>Thailand</th>\n",
              "      <td>63930000.0</td>\n",
              "      <td>1.996000e+07</td>\n",
              "      <td>12580000.0</td>\n",
              "      <td>53880000.0</td>\n",
              "      <td>49500000.0</td>\n",
              "      <td>69200000.0</td>\n",
              "      <td>110100000.0</td>\n",
              "      <td>6500000.0</td>\n",
              "      <td>13000000.0</td>\n",
              "      <td>18580000.0</td>\n",
              "      <td>16600000.0</td>\n",
              "    </tr>\n",
              "    <tr>\n",
              "      <th>Singapore</th>\n",
              "      <td>120000.0</td>\n",
              "      <td>4.000000e+04</td>\n",
              "      <td>3060000.0</td>\n",
              "      <td>13360000.0</td>\n",
              "      <td>12400000.0</td>\n",
              "      <td>6500000.0</td>\n",
              "      <td>25700000.0</td>\n",
              "      <td>600000.0</td>\n",
              "      <td>960000.0</td>\n",
              "      <td>400000.0</td>\n",
              "      <td>174900000.0</td>\n",
              "    </tr>\n",
              "  </tbody>\n",
              "</table>\n",
              "</div>"
            ],
            "text/plain": [
              "             Agriculture (GHG Emissions, CAIT)  ...  Bunker Fuels (GHG Emissions, CAIT)\n",
              "Entity                                          ...                                    \n",
              "Indonesia                          190220000.0  ...                           3600000.0\n",
              "Malaysia                            13250000.0  ...                           8200000.0\n",
              "Philippines                         59000000.0  ...                           4100000.0\n",
              "Thailand                            63930000.0  ...                          16600000.0\n",
              "Singapore                             120000.0  ...                         174900000.0\n",
              "\n",
              "[5 rows x 11 columns]"
            ]
          },
          "metadata": {
            "tags": []
          },
          "execution_count": 148
        }
      ]
    },
    {
      "cell_type": "code",
      "metadata": {
        "colab": {
          "base_uri": "https://localhost:8080/"
        },
        "id": "Q_aiWMGMQmtY",
        "outputId": "e45ebee8-950f-4738-b559-80e2bcd8a238"
      },
      "source": [
        "ghgemisi_asean.sum()"
      ],
      "execution_count": null,
      "outputs": [
        {
          "output_type": "execute_result",
          "data": {
            "text/plain": [
              "Agriculture (GHG Emissions, CAIT)                          5.075100e+08\n",
              "Land-Use Change and Forestry (GHG Emissions, CAIT)         1.339480e+09\n",
              "Waste (GHG Emissions, CAIT)                                2.042500e+08\n",
              "Industry (GHG Emissions, CAIT)                             1.713700e+08\n",
              "Manufacturing/Construction energy (GHG Emissions, CAIT)    2.599000e+08\n",
              "Transport (GHG Emissions, CAIT)                            3.539000e+08\n",
              "Electricity & Heat (GHG Emissions, CAIT)                   6.058000e+08\n",
              "Buildings (GHG Emissions, CAIT)                            5.590000e+07\n",
              "Fugitive from energy production (GHG Emissions, CAIT)      9.869000e+07\n",
              "Other Fuel Combustion (GHG Emissions, CAIT)                7.648000e+07\n",
              "Bunker Fuels (GHG Emissions, CAIT)                         2.133000e+08\n",
              "dtype: float64"
            ]
          },
          "metadata": {
            "tags": []
          },
          "execution_count": 149
        }
      ]
    },
    {
      "cell_type": "code",
      "metadata": {
        "colab": {
          "base_uri": "https://localhost:8080/",
          "height": 390
        },
        "id": "c4RU1MRvQbL0",
        "outputId": "94a6cfa5-f350-4f0b-e4f9-93978eb8f2e2"
      },
      "source": [
        "ghgsector=pd.DataFrame(ghgemisi_asean.sum())\n",
        "ghgsector['Sector']=['Agriculture','Land-Use Change and Forestry','Waste','Industry','Energy','Energy','Energy','Energy','Energy','Energy','Energy']\n",
        "ghgsector.reset_index(inplace=True)\n",
        "ghgsector.rename({0: 'Sum'}, axis=1,inplace=True)\n",
        "ghgsector"
      ],
      "execution_count": null,
      "outputs": [
        {
          "output_type": "execute_result",
          "data": {
            "text/html": [
              "<div>\n",
              "<style scoped>\n",
              "    .dataframe tbody tr th:only-of-type {\n",
              "        vertical-align: middle;\n",
              "    }\n",
              "\n",
              "    .dataframe tbody tr th {\n",
              "        vertical-align: top;\n",
              "    }\n",
              "\n",
              "    .dataframe thead th {\n",
              "        text-align: right;\n",
              "    }\n",
              "</style>\n",
              "<table border=\"1\" class=\"dataframe\">\n",
              "  <thead>\n",
              "    <tr style=\"text-align: right;\">\n",
              "      <th></th>\n",
              "      <th>index</th>\n",
              "      <th>Sum</th>\n",
              "      <th>Sector</th>\n",
              "    </tr>\n",
              "  </thead>\n",
              "  <tbody>\n",
              "    <tr>\n",
              "      <th>0</th>\n",
              "      <td>Agriculture (GHG Emissions, CAIT)</td>\n",
              "      <td>5.075100e+08</td>\n",
              "      <td>Agriculture</td>\n",
              "    </tr>\n",
              "    <tr>\n",
              "      <th>1</th>\n",
              "      <td>Land-Use Change and Forestry (GHG Emissions, C...</td>\n",
              "      <td>1.339480e+09</td>\n",
              "      <td>Land-Use Change and Forestry</td>\n",
              "    </tr>\n",
              "    <tr>\n",
              "      <th>2</th>\n",
              "      <td>Waste (GHG Emissions, CAIT)</td>\n",
              "      <td>2.042500e+08</td>\n",
              "      <td>Waste</td>\n",
              "    </tr>\n",
              "    <tr>\n",
              "      <th>3</th>\n",
              "      <td>Industry (GHG Emissions, CAIT)</td>\n",
              "      <td>1.713700e+08</td>\n",
              "      <td>Industry</td>\n",
              "    </tr>\n",
              "    <tr>\n",
              "      <th>4</th>\n",
              "      <td>Manufacturing/Construction energy (GHG Emissio...</td>\n",
              "      <td>2.599000e+08</td>\n",
              "      <td>Energy</td>\n",
              "    </tr>\n",
              "    <tr>\n",
              "      <th>5</th>\n",
              "      <td>Transport (GHG Emissions, CAIT)</td>\n",
              "      <td>3.539000e+08</td>\n",
              "      <td>Energy</td>\n",
              "    </tr>\n",
              "    <tr>\n",
              "      <th>6</th>\n",
              "      <td>Electricity &amp; Heat (GHG Emissions, CAIT)</td>\n",
              "      <td>6.058000e+08</td>\n",
              "      <td>Energy</td>\n",
              "    </tr>\n",
              "    <tr>\n",
              "      <th>7</th>\n",
              "      <td>Buildings (GHG Emissions, CAIT)</td>\n",
              "      <td>5.590000e+07</td>\n",
              "      <td>Energy</td>\n",
              "    </tr>\n",
              "    <tr>\n",
              "      <th>8</th>\n",
              "      <td>Fugitive from energy production (GHG Emissions...</td>\n",
              "      <td>9.869000e+07</td>\n",
              "      <td>Energy</td>\n",
              "    </tr>\n",
              "    <tr>\n",
              "      <th>9</th>\n",
              "      <td>Other Fuel Combustion (GHG Emissions, CAIT)</td>\n",
              "      <td>7.648000e+07</td>\n",
              "      <td>Energy</td>\n",
              "    </tr>\n",
              "    <tr>\n",
              "      <th>10</th>\n",
              "      <td>Bunker Fuels (GHG Emissions, CAIT)</td>\n",
              "      <td>2.133000e+08</td>\n",
              "      <td>Energy</td>\n",
              "    </tr>\n",
              "  </tbody>\n",
              "</table>\n",
              "</div>"
            ],
            "text/plain": [
              "                                                index  ...                        Sector\n",
              "0                   Agriculture (GHG Emissions, CAIT)  ...                   Agriculture\n",
              "1   Land-Use Change and Forestry (GHG Emissions, C...  ...  Land-Use Change and Forestry\n",
              "2                         Waste (GHG Emissions, CAIT)  ...                         Waste\n",
              "3                      Industry (GHG Emissions, CAIT)  ...                      Industry\n",
              "4   Manufacturing/Construction energy (GHG Emissio...  ...                        Energy\n",
              "5                     Transport (GHG Emissions, CAIT)  ...                        Energy\n",
              "6            Electricity & Heat (GHG Emissions, CAIT)  ...                        Energy\n",
              "7                     Buildings (GHG Emissions, CAIT)  ...                        Energy\n",
              "8   Fugitive from energy production (GHG Emissions...  ...                        Energy\n",
              "9         Other Fuel Combustion (GHG Emissions, CAIT)  ...                        Energy\n",
              "10                 Bunker Fuels (GHG Emissions, CAIT)  ...                        Energy\n",
              "\n",
              "[11 rows x 3 columns]"
            ]
          },
          "metadata": {
            "tags": []
          },
          "execution_count": 150
        }
      ]
    },
    {
      "cell_type": "code",
      "metadata": {
        "colab": {
          "base_uri": "https://localhost:8080/",
          "height": 235
        },
        "id": "EE8IGuBdQxcD",
        "outputId": "d0a8367a-e28d-4dac-b1dc-48151e12e93d"
      },
      "source": [
        "ghgsector=ghgsector.groupby('Sector').sum()\n",
        "ghgsector"
      ],
      "execution_count": null,
      "outputs": [
        {
          "output_type": "execute_result",
          "data": {
            "text/html": [
              "<div>\n",
              "<style scoped>\n",
              "    .dataframe tbody tr th:only-of-type {\n",
              "        vertical-align: middle;\n",
              "    }\n",
              "\n",
              "    .dataframe tbody tr th {\n",
              "        vertical-align: top;\n",
              "    }\n",
              "\n",
              "    .dataframe thead th {\n",
              "        text-align: right;\n",
              "    }\n",
              "</style>\n",
              "<table border=\"1\" class=\"dataframe\">\n",
              "  <thead>\n",
              "    <tr style=\"text-align: right;\">\n",
              "      <th></th>\n",
              "      <th>Sum</th>\n",
              "    </tr>\n",
              "    <tr>\n",
              "      <th>Sector</th>\n",
              "      <th></th>\n",
              "    </tr>\n",
              "  </thead>\n",
              "  <tbody>\n",
              "    <tr>\n",
              "      <th>Agriculture</th>\n",
              "      <td>5.075100e+08</td>\n",
              "    </tr>\n",
              "    <tr>\n",
              "      <th>Energy</th>\n",
              "      <td>1.663970e+09</td>\n",
              "    </tr>\n",
              "    <tr>\n",
              "      <th>Industry</th>\n",
              "      <td>1.713700e+08</td>\n",
              "    </tr>\n",
              "    <tr>\n",
              "      <th>Land-Use Change and Forestry</th>\n",
              "      <td>1.339480e+09</td>\n",
              "    </tr>\n",
              "    <tr>\n",
              "      <th>Waste</th>\n",
              "      <td>2.042500e+08</td>\n",
              "    </tr>\n",
              "  </tbody>\n",
              "</table>\n",
              "</div>"
            ],
            "text/plain": [
              "                                       Sum\n",
              "Sector                                    \n",
              "Agriculture                   5.075100e+08\n",
              "Energy                        1.663970e+09\n",
              "Industry                      1.713700e+08\n",
              "Land-Use Change and Forestry  1.339480e+09\n",
              "Waste                         2.042500e+08"
            ]
          },
          "metadata": {
            "tags": []
          },
          "execution_count": 151
        }
      ]
    },
    {
      "cell_type": "code",
      "metadata": {
        "colab": {
          "base_uri": "https://localhost:8080/",
          "height": 357
        },
        "id": "WkGVZNsLQvbL",
        "outputId": "b716bf59-2436-4059-8595-e299ee6f94a1"
      },
      "source": [
        "ghgsector['Sum'].plot(kind='pie',figsize=(5,6),autopct='%1.1f%%',startangle=30)\n",
        "\n",
        "plt.axis('equal')\n",
        "plt.show()"
      ],
      "execution_count": null,
      "outputs": [
        {
          "output_type": "display_data",
          "data": {
            "image/png": "[encoded data removed]",
            "text/plain": [
              "<Figure size 360x432 with 1 Axes>"
            ]
          },
          "metadata": {
            "tags": []
          }
        }
      ]
    },
    {
      "cell_type": "markdown",
      "metadata": {
        "id": "qyB9kL21UhZ8"
      },
      "source": [
        "## 5. Data About Fossil Fuel Consumption (Excluding Brunei, Laos, Cambodia, Myanmar)\n",
        "\n",
        "Source:\n",
        "*   https://ourworldindata.org/grapher/fossil-fuel-primary-energy\n",
        "*   http://www.bp.com/statisticalreview\n",
        "\n",
        "Keterangan:\n",
        "\n",
        "TWh = Terrawatt Hour\n",
        "\n",
        "1TWh = 1.000.000.000 kWh"
      ]
    },
    {
      "cell_type": "code",
      "metadata": {
        "colab": {
          "base_uri": "https://localhost:8080/",
          "height": 235
        },
        "id": "cfpNakvRU-rd",
        "outputId": "b54c1e77-1be3-490d-ad14-0561ac8c8ae0"
      },
      "source": [
        "fossil = pd.read_csv('https://raw.githubusercontent.com/Jauhar-Hakim571/Tugas-Akhir-EDA/main/fossil-fuel-primary-energy.csv')\n",
        "fossil.set_index(['Entity'],inplace = True)\n",
        "fossil.head()"
      ],
      "execution_count": null,
      "outputs": [
        {
          "output_type": "execute_result",
          "data": {
            "text/html": [
              "<div>\n",
              "<style scoped>\n",
              "    .dataframe tbody tr th:only-of-type {\n",
              "        vertical-align: middle;\n",
              "    }\n",
              "\n",
              "    .dataframe tbody tr th {\n",
              "        vertical-align: top;\n",
              "    }\n",
              "\n",
              "    .dataframe thead th {\n",
              "        text-align: right;\n",
              "    }\n",
              "</style>\n",
              "<table border=\"1\" class=\"dataframe\">\n",
              "  <thead>\n",
              "    <tr style=\"text-align: right;\">\n",
              "      <th></th>\n",
              "      <th>Code</th>\n",
              "      <th>Year</th>\n",
              "      <th>Fossil Fuels (TWh)</th>\n",
              "    </tr>\n",
              "    <tr>\n",
              "      <th>Entity</th>\n",
              "      <th></th>\n",
              "      <th></th>\n",
              "      <th></th>\n",
              "    </tr>\n",
              "  </thead>\n",
              "  <tbody>\n",
              "    <tr>\n",
              "      <th>Africa</th>\n",
              "      <td>NaN</td>\n",
              "      <td>1965</td>\n",
              "      <td>658.941</td>\n",
              "    </tr>\n",
              "    <tr>\n",
              "      <th>Africa</th>\n",
              "      <td>NaN</td>\n",
              "      <td>1966</td>\n",
              "      <td>690.502</td>\n",
              "    </tr>\n",
              "    <tr>\n",
              "      <th>Africa</th>\n",
              "      <td>NaN</td>\n",
              "      <td>1967</td>\n",
              "      <td>694.671</td>\n",
              "    </tr>\n",
              "    <tr>\n",
              "      <th>Africa</th>\n",
              "      <td>NaN</td>\n",
              "      <td>1968</td>\n",
              "      <td>727.597</td>\n",
              "    </tr>\n",
              "    <tr>\n",
              "      <th>Africa</th>\n",
              "      <td>NaN</td>\n",
              "      <td>1969</td>\n",
              "      <td>737.671</td>\n",
              "    </tr>\n",
              "  </tbody>\n",
              "</table>\n",
              "</div>"
            ],
            "text/plain": [
              "       Code  Year  Fossil Fuels (TWh)\n",
              "Entity                               \n",
              "Africa  NaN  1965             658.941\n",
              "Africa  NaN  1966             690.502\n",
              "Africa  NaN  1967             694.671\n",
              "Africa  NaN  1968             727.597\n",
              "Africa  NaN  1969             737.671"
            ]
          },
          "metadata": {
            "tags": []
          },
          "execution_count": 153
        }
      ]
    },
    {
      "cell_type": "code",
      "metadata": {
        "colab": {
          "base_uri": "https://localhost:8080/",
          "height": 235
        },
        "id": "3lgEaMzMVDRp",
        "outputId": "62fdad84-c6cf-49dd-e3c7-99ceace4f5cd"
      },
      "source": [
        "fossil_asean = fossil.loc[Asean2]\n",
        "\n",
        "fossil_asean.reset_index(inplace=True)\n",
        "fossil_asean.set_index(['Year'],inplace=True)\n",
        "fossil_asean.drop('Code', axis=1, inplace=True)\n",
        "fossil_asean.head()"
      ],
      "execution_count": null,
      "outputs": [
        {
          "output_type": "execute_result",
          "data": {
            "text/html": [
              "<div>\n",
              "<style scoped>\n",
              "    .dataframe tbody tr th:only-of-type {\n",
              "        vertical-align: middle;\n",
              "    }\n",
              "\n",
              "    .dataframe tbody tr th {\n",
              "        vertical-align: top;\n",
              "    }\n",
              "\n",
              "    .dataframe thead th {\n",
              "        text-align: right;\n",
              "    }\n",
              "</style>\n",
              "<table border=\"1\" class=\"dataframe\">\n",
              "  <thead>\n",
              "    <tr style=\"text-align: right;\">\n",
              "      <th></th>\n",
              "      <th>Entity</th>\n",
              "      <th>Fossil Fuels (TWh)</th>\n",
              "    </tr>\n",
              "    <tr>\n",
              "      <th>Year</th>\n",
              "      <th></th>\n",
              "      <th></th>\n",
              "    </tr>\n",
              "  </thead>\n",
              "  <tbody>\n",
              "    <tr>\n",
              "      <th>1965</th>\n",
              "      <td>Indonesia</td>\n",
              "      <td>79.119</td>\n",
              "    </tr>\n",
              "    <tr>\n",
              "      <th>1966</th>\n",
              "      <td>Indonesia</td>\n",
              "      <td>76.879</td>\n",
              "    </tr>\n",
              "    <tr>\n",
              "      <th>1967</th>\n",
              "      <td>Indonesia</td>\n",
              "      <td>75.017</td>\n",
              "    </tr>\n",
              "    <tr>\n",
              "      <th>1968</th>\n",
              "      <td>Indonesia</td>\n",
              "      <td>78.690</td>\n",
              "    </tr>\n",
              "    <tr>\n",
              "      <th>1969</th>\n",
              "      <td>Indonesia</td>\n",
              "      <td>89.606</td>\n",
              "    </tr>\n",
              "  </tbody>\n",
              "</table>\n",
              "</div>"
            ],
            "text/plain": [
              "         Entity  Fossil Fuels (TWh)\n",
              "Year                               \n",
              "1965  Indonesia              79.119\n",
              "1966  Indonesia              76.879\n",
              "1967  Indonesia              75.017\n",
              "1968  Indonesia              78.690\n",
              "1969  Indonesia              89.606"
            ]
          },
          "metadata": {
            "tags": []
          },
          "execution_count": 154
        }
      ]
    },
    {
      "cell_type": "code",
      "metadata": {
        "colab": {
          "base_uri": "https://localhost:8080/",
          "height": 235
        },
        "id": "CrxOGfl-VDZY",
        "outputId": "469258cc-293b-4b6d-ef7e-d4f80cff97f5"
      },
      "source": [
        "fossil_asean2 = fossil.loc[Asean2].groupby(['Year','Entity']).sum()\n",
        "fossil_asean2.head()"
      ],
      "execution_count": null,
      "outputs": [
        {
          "output_type": "execute_result",
          "data": {
            "text/html": [
              "<div>\n",
              "<style scoped>\n",
              "    .dataframe tbody tr th:only-of-type {\n",
              "        vertical-align: middle;\n",
              "    }\n",
              "\n",
              "    .dataframe tbody tr th {\n",
              "        vertical-align: top;\n",
              "    }\n",
              "\n",
              "    .dataframe thead th {\n",
              "        text-align: right;\n",
              "    }\n",
              "</style>\n",
              "<table border=\"1\" class=\"dataframe\">\n",
              "  <thead>\n",
              "    <tr style=\"text-align: right;\">\n",
              "      <th></th>\n",
              "      <th></th>\n",
              "      <th>Fossil Fuels (TWh)</th>\n",
              "    </tr>\n",
              "    <tr>\n",
              "      <th>Year</th>\n",
              "      <th>Entity</th>\n",
              "      <th></th>\n",
              "    </tr>\n",
              "  </thead>\n",
              "  <tbody>\n",
              "    <tr>\n",
              "      <th rowspan=\"5\" valign=\"top\">1965</th>\n",
              "      <th>Indonesia</th>\n",
              "      <td>79.119</td>\n",
              "    </tr>\n",
              "    <tr>\n",
              "      <th>Malaysia</th>\n",
              "      <td>27.293</td>\n",
              "    </tr>\n",
              "    <tr>\n",
              "      <th>Philippines</th>\n",
              "      <td>50.202</td>\n",
              "    </tr>\n",
              "    <tr>\n",
              "      <th>Singapore</th>\n",
              "      <td>47.888</td>\n",
              "    </tr>\n",
              "    <tr>\n",
              "      <th>Thailand</th>\n",
              "      <td>28.220</td>\n",
              "    </tr>\n",
              "  </tbody>\n",
              "</table>\n",
              "</div>"
            ],
            "text/plain": [
              "                  Fossil Fuels (TWh)\n",
              "Year Entity                         \n",
              "1965 Indonesia                79.119\n",
              "     Malaysia                 27.293\n",
              "     Philippines              50.202\n",
              "     Singapore                47.888\n",
              "     Thailand                 28.220"
            ]
          },
          "metadata": {
            "tags": []
          },
          "execution_count": 155
        }
      ]
    },
    {
      "cell_type": "code",
      "metadata": {
        "colab": {
          "base_uri": "https://localhost:8080/",
          "height": 235
        },
        "id": "YUyiuGlQVDgb",
        "outputId": "3e032f46-b999-46d8-df4a-1d861f91cdec"
      },
      "source": [
        "fossil_asean3 = tabelbaru(fossil_asean2,Asean2)\n",
        "fossil_asean3.head()"
      ],
      "execution_count": null,
      "outputs": [
        {
          "output_type": "execute_result",
          "data": {
            "text/html": [
              "<div>\n",
              "<style scoped>\n",
              "    .dataframe tbody tr th:only-of-type {\n",
              "        vertical-align: middle;\n",
              "    }\n",
              "\n",
              "    .dataframe tbody tr th {\n",
              "        vertical-align: top;\n",
              "    }\n",
              "\n",
              "    .dataframe thead th {\n",
              "        text-align: right;\n",
              "    }\n",
              "</style>\n",
              "<table border=\"1\" class=\"dataframe\">\n",
              "  <thead>\n",
              "    <tr style=\"text-align: right;\">\n",
              "      <th></th>\n",
              "      <th>Indonesia</th>\n",
              "      <th>Malaysia</th>\n",
              "      <th>Philippines</th>\n",
              "      <th>Singapore</th>\n",
              "      <th>Thailand</th>\n",
              "      <th>Vietnam</th>\n",
              "    </tr>\n",
              "    <tr>\n",
              "      <th>Year</th>\n",
              "      <th></th>\n",
              "      <th></th>\n",
              "      <th></th>\n",
              "      <th></th>\n",
              "      <th></th>\n",
              "      <th></th>\n",
              "    </tr>\n",
              "  </thead>\n",
              "  <tbody>\n",
              "    <tr>\n",
              "      <th>1965</th>\n",
              "      <td>79.119</td>\n",
              "      <td>27.293</td>\n",
              "      <td>50.202</td>\n",
              "      <td>47.888</td>\n",
              "      <td>28.22</td>\n",
              "      <td>28.45</td>\n",
              "    </tr>\n",
              "    <tr>\n",
              "      <th>1966</th>\n",
              "      <td>76.879</td>\n",
              "      <td>31.828</td>\n",
              "      <td>54.695</td>\n",
              "      <td>54.744</td>\n",
              "      <td>33.447</td>\n",
              "      <td>50.329</td>\n",
              "    </tr>\n",
              "    <tr>\n",
              "      <th>1967</th>\n",
              "      <td>75.017</td>\n",
              "      <td>32.104</td>\n",
              "      <td>61.514</td>\n",
              "      <td>65.756</td>\n",
              "      <td>37.633</td>\n",
              "      <td>69.669</td>\n",
              "    </tr>\n",
              "    <tr>\n",
              "      <th>1968</th>\n",
              "      <td>78.69</td>\n",
              "      <td>32.544</td>\n",
              "      <td>69.989</td>\n",
              "      <td>81.735</td>\n",
              "      <td>49.317</td>\n",
              "      <td>72.147</td>\n",
              "    </tr>\n",
              "    <tr>\n",
              "      <th>1969</th>\n",
              "      <td>89.606</td>\n",
              "      <td>33.61</td>\n",
              "      <td>75.05</td>\n",
              "      <td>80.319</td>\n",
              "      <td>53.381</td>\n",
              "      <td>85.293</td>\n",
              "    </tr>\n",
              "  </tbody>\n",
              "</table>\n",
              "</div>"
            ],
            "text/plain": [
              "     Indonesia Malaysia Philippines Singapore Thailand Vietnam\n",
              "Year                                                          \n",
              "1965    79.119   27.293      50.202    47.888    28.22   28.45\n",
              "1966    76.879   31.828      54.695    54.744   33.447  50.329\n",
              "1967    75.017   32.104      61.514    65.756   37.633  69.669\n",
              "1968     78.69   32.544      69.989    81.735   49.317  72.147\n",
              "1969    89.606    33.61       75.05    80.319   53.381  85.293"
            ]
          },
          "metadata": {
            "tags": []
          },
          "execution_count": 156
        }
      ]
    },
    {
      "cell_type": "code",
      "metadata": {
        "colab": {
          "base_uri": "https://localhost:8080/"
        },
        "id": "N-BpITYMVDnX",
        "outputId": "72b653f1-a3a3-4e29-d30a-f6b24b5bee88"
      },
      "source": [
        "fossil_asean3.dtypes"
      ],
      "execution_count": null,
      "outputs": [
        {
          "output_type": "execute_result",
          "data": {
            "text/plain": [
              "Indonesia      object\n",
              "Malaysia       object\n",
              "Philippines    object\n",
              "Singapore      object\n",
              "Thailand       object\n",
              "Vietnam        object\n",
              "dtype: object"
            ]
          },
          "metadata": {
            "tags": []
          },
          "execution_count": 157
        }
      ]
    },
    {
      "cell_type": "code",
      "metadata": {
        "colab": {
          "base_uri": "https://localhost:8080/"
        },
        "id": "u1NMHPsEVQPB",
        "outputId": "c41add52-10bc-40cf-ab78-29f13ddb8afe"
      },
      "source": [
        "for i in Asean2:\n",
        "    fossil_asean3[i] = pd.to_numeric(fossil_asean3[i])\n",
        "\n",
        "fossil_asean3.dtypes"
      ],
      "execution_count": null,
      "outputs": [
        {
          "output_type": "execute_result",
          "data": {
            "text/plain": [
              "Indonesia      float64\n",
              "Malaysia       float64\n",
              "Philippines    float64\n",
              "Singapore      float64\n",
              "Thailand       float64\n",
              "Vietnam        float64\n",
              "dtype: object"
            ]
          },
          "metadata": {
            "tags": []
          },
          "execution_count": 158
        }
      ]
    },
    {
      "cell_type": "code",
      "metadata": {
        "colab": {
          "base_uri": "https://localhost:8080/"
        },
        "id": "i-bTrXbvViWO",
        "outputId": "7d4dfcc8-dfd4-4d77-a5ba-cf745d9a5b81"
      },
      "source": [
        "print(fossil_asean3.isnull().sum())"
      ],
      "execution_count": null,
      "outputs": [
        {
          "output_type": "stream",
          "text": [
            "Indonesia      0\n",
            "Malaysia       0\n",
            "Philippines    0\n",
            "Singapore      0\n",
            "Thailand       0\n",
            "Vietnam        0\n",
            "dtype: int64\n"
          ],
          "name": "stdout"
        }
      ]
    },
    {
      "cell_type": "code",
      "metadata": {
        "colab": {
          "base_uri": "https://localhost:8080/",
          "height": 235
        },
        "id": "wklURDvDVrWq",
        "outputId": "3a078dc6-8bd9-4a8a-8844-a95075221ef8"
      },
      "source": [
        "fossil_asean3['Average']=fossil_asean3.mean(axis=1)\n",
        "fossil_asean3.head()"
      ],
      "execution_count": null,
      "outputs": [
        {
          "output_type": "execute_result",
          "data": {
            "text/html": [
              "<div>\n",
              "<style scoped>\n",
              "    .dataframe tbody tr th:only-of-type {\n",
              "        vertical-align: middle;\n",
              "    }\n",
              "\n",
              "    .dataframe tbody tr th {\n",
              "        vertical-align: top;\n",
              "    }\n",
              "\n",
              "    .dataframe thead th {\n",
              "        text-align: right;\n",
              "    }\n",
              "</style>\n",
              "<table border=\"1\" class=\"dataframe\">\n",
              "  <thead>\n",
              "    <tr style=\"text-align: right;\">\n",
              "      <th></th>\n",
              "      <th>Indonesia</th>\n",
              "      <th>Malaysia</th>\n",
              "      <th>Philippines</th>\n",
              "      <th>Singapore</th>\n",
              "      <th>Thailand</th>\n",
              "      <th>Vietnam</th>\n",
              "      <th>Average</th>\n",
              "    </tr>\n",
              "    <tr>\n",
              "      <th>Year</th>\n",
              "      <th></th>\n",
              "      <th></th>\n",
              "      <th></th>\n",
              "      <th></th>\n",
              "      <th></th>\n",
              "      <th></th>\n",
              "      <th></th>\n",
              "    </tr>\n",
              "  </thead>\n",
              "  <tbody>\n",
              "    <tr>\n",
              "      <th>1965</th>\n",
              "      <td>79.119</td>\n",
              "      <td>27.293</td>\n",
              "      <td>50.202</td>\n",
              "      <td>47.888</td>\n",
              "      <td>28.220</td>\n",
              "      <td>28.450</td>\n",
              "      <td>43.528667</td>\n",
              "    </tr>\n",
              "    <tr>\n",
              "      <th>1966</th>\n",
              "      <td>76.879</td>\n",
              "      <td>31.828</td>\n",
              "      <td>54.695</td>\n",
              "      <td>54.744</td>\n",
              "      <td>33.447</td>\n",
              "      <td>50.329</td>\n",
              "      <td>50.320333</td>\n",
              "    </tr>\n",
              "    <tr>\n",
              "      <th>1967</th>\n",
              "      <td>75.017</td>\n",
              "      <td>32.104</td>\n",
              "      <td>61.514</td>\n",
              "      <td>65.756</td>\n",
              "      <td>37.633</td>\n",
              "      <td>69.669</td>\n",
              "      <td>56.948833</td>\n",
              "    </tr>\n",
              "    <tr>\n",
              "      <th>1968</th>\n",
              "      <td>78.690</td>\n",
              "      <td>32.544</td>\n",
              "      <td>69.989</td>\n",
              "      <td>81.735</td>\n",
              "      <td>49.317</td>\n",
              "      <td>72.147</td>\n",
              "      <td>64.070333</td>\n",
              "    </tr>\n",
              "    <tr>\n",
              "      <th>1969</th>\n",
              "      <td>89.606</td>\n",
              "      <td>33.610</td>\n",
              "      <td>75.050</td>\n",
              "      <td>80.319</td>\n",
              "      <td>53.381</td>\n",
              "      <td>85.293</td>\n",
              "      <td>69.543167</td>\n",
              "    </tr>\n",
              "  </tbody>\n",
              "</table>\n",
              "</div>"
            ],
            "text/plain": [
              "      Indonesia  Malaysia  Philippines  Singapore  Thailand  Vietnam    Average\n",
              "Year                                                                           \n",
              "1965     79.119    27.293       50.202     47.888    28.220   28.450  43.528667\n",
              "1966     76.879    31.828       54.695     54.744    33.447   50.329  50.320333\n",
              "1967     75.017    32.104       61.514     65.756    37.633   69.669  56.948833\n",
              "1968     78.690    32.544       69.989     81.735    49.317   72.147  64.070333\n",
              "1969     89.606    33.610       75.050     80.319    53.381   85.293  69.543167"
            ]
          },
          "metadata": {
            "tags": []
          },
          "execution_count": 160
        }
      ]
    },
    {
      "cell_type": "code",
      "metadata": {
        "colab": {
          "base_uri": "https://localhost:8080/",
          "height": 388
        },
        "id": "JxFQVgNxVt9K",
        "outputId": "910641c8-4f58-4f76-bc81-4eb6b4048743"
      },
      "source": [
        "fos_p = fossil_asean3.plot(subplots=False, figsize=(12,6))"
      ],
      "execution_count": null,
      "outputs": [
        {
          "output_type": "display_data",
          "data": {
            "image/png": "[encoded data removed]",
            "text/plain": [
              "<Figure size 864x432 with 1 Axes>"
            ]
          },
          "metadata": {
            "tags": []
          }
        }
      ]
    },
    {
      "cell_type": "code",
      "metadata": {
        "colab": {
          "base_uri": "https://localhost:8080/",
          "height": 404
        },
        "id": "SArg8zb3VwTb",
        "outputId": "60836a29-2a57-4363-d376-14797a87894b"
      },
      "source": [
        "plt.figure(figsize=(12,6))\n",
        "fos_q=sns.lineplot(x='Year', y='Average', data=fossil_asean3,palette='Set1',label='Average')\n",
        "fos_q2=sns.lineplot(x='Year', y='Indonesia', data=fossil_asean3,palette='Set1',label='Indonesia')\n",
        "fos_q3=sns.lineplot(x='Year', y='Thailand', data=fossil_asean3,palette='Set1',label='Thailand')\n",
        "\n",
        "fos_q.set(xlabel =\"Year\",ylabel='Fossil Fuels (TWh)',title ='Total Fossil Fuels used per Year')\n",
        "\n",
        "plt.show()"
      ],
      "execution_count": null,
      "outputs": [
        {
          "output_type": "display_data",
          "data": {
            "image/png": "[encoded data removed]",
            "text/plain": [
              "<Figure size 864x432 with 1 Axes>"
            ]
          },
          "metadata": {
            "tags": []
          }
        }
      ]
    },
    {
      "cell_type": "markdown",
      "metadata": {
        "id": "QEwXQFJGWItL"
      },
      "source": [
        "## 6. Data About Average Temperature Anomaly\n",
        "\n",
        "Source:\n",
        "*   https://ourworldindata.org/grapher/temperature-anomaly\n",
        "*   https://www.metoffice.gov.uk/hadobs/hadcrut4/index.html\n",
        "\n",
        "Keterangan :\n",
        "\n",
        "\n",
        "The Tropics average land-sea temperature anomaly relative to the 1961-1990 average temperature.\n",
        "\n",
        "Anomali suhu rata-rata darat-laut Tropis relatif terhadap suhu rata-rata tahun 1961-1990."
      ]
    },
    {
      "cell_type": "code",
      "metadata": {
        "colab": {
          "base_uri": "https://localhost:8080/",
          "height": 204
        },
        "id": "ZEZbGNBpWjgk",
        "outputId": "a608508a-d121-43ce-e986-a0efbd93da21"
      },
      "source": [
        "suhu=pd.read_csv('https://raw.githubusercontent.com/Jauhar-Hakim571/Tugas-Akhir-EDA/main/temperature-anomaly.csv')\n",
        "suhu.head()"
      ],
      "execution_count": null,
      "outputs": [
        {
          "output_type": "execute_result",
          "data": {
            "text/html": [
              "<div>\n",
              "<style scoped>\n",
              "    .dataframe tbody tr th:only-of-type {\n",
              "        vertical-align: middle;\n",
              "    }\n",
              "\n",
              "    .dataframe tbody tr th {\n",
              "        vertical-align: top;\n",
              "    }\n",
              "\n",
              "    .dataframe thead th {\n",
              "        text-align: right;\n",
              "    }\n",
              "</style>\n",
              "<table border=\"1\" class=\"dataframe\">\n",
              "  <thead>\n",
              "    <tr style=\"text-align: right;\">\n",
              "      <th></th>\n",
              "      <th>Entity</th>\n",
              "      <th>Code</th>\n",
              "      <th>Year</th>\n",
              "      <th>Median temperature anomaly from 1961-1990 average</th>\n",
              "      <th>Upper bound (95% CI)</th>\n",
              "      <th>Lower bound (95% CI)</th>\n",
              "    </tr>\n",
              "  </thead>\n",
              "  <tbody>\n",
              "    <tr>\n",
              "      <th>0</th>\n",
              "      <td>Global</td>\n",
              "      <td>NaN</td>\n",
              "      <td>1850</td>\n",
              "      <td>-0.373</td>\n",
              "      <td>-0.339</td>\n",
              "      <td>-0.425</td>\n",
              "    </tr>\n",
              "    <tr>\n",
              "      <th>1</th>\n",
              "      <td>Global</td>\n",
              "      <td>NaN</td>\n",
              "      <td>1851</td>\n",
              "      <td>-0.218</td>\n",
              "      <td>-0.184</td>\n",
              "      <td>-0.274</td>\n",
              "    </tr>\n",
              "    <tr>\n",
              "      <th>2</th>\n",
              "      <td>Global</td>\n",
              "      <td>NaN</td>\n",
              "      <td>1852</td>\n",
              "      <td>-0.228</td>\n",
              "      <td>-0.196</td>\n",
              "      <td>-0.280</td>\n",
              "    </tr>\n",
              "    <tr>\n",
              "      <th>3</th>\n",
              "      <td>Global</td>\n",
              "      <td>NaN</td>\n",
              "      <td>1853</td>\n",
              "      <td>-0.269</td>\n",
              "      <td>-0.239</td>\n",
              "      <td>-0.321</td>\n",
              "    </tr>\n",
              "    <tr>\n",
              "      <th>4</th>\n",
              "      <td>Global</td>\n",
              "      <td>NaN</td>\n",
              "      <td>1854</td>\n",
              "      <td>-0.248</td>\n",
              "      <td>-0.218</td>\n",
              "      <td>-0.301</td>\n",
              "    </tr>\n",
              "  </tbody>\n",
              "</table>\n",
              "</div>"
            ],
            "text/plain": [
              "   Entity  Code  ...  Upper bound (95% CI)  Lower bound (95% CI)\n",
              "0  Global   NaN  ...                -0.339                -0.425\n",
              "1  Global   NaN  ...                -0.184                -0.274\n",
              "2  Global   NaN  ...                -0.196                -0.280\n",
              "3  Global   NaN  ...                -0.239                -0.321\n",
              "4  Global   NaN  ...                -0.218                -0.301\n",
              "\n",
              "[5 rows x 6 columns]"
            ]
          },
          "metadata": {
            "tags": []
          },
          "execution_count": 163
        }
      ]
    },
    {
      "cell_type": "code",
      "metadata": {
        "colab": {
          "base_uri": "https://localhost:8080/",
          "height": 450
        },
        "id": "rlXRWg2gWh9h",
        "outputId": "328d959f-da20-4690-a015-821cbe5e27c5"
      },
      "source": [
        "suhu.drop(\"Code\", axis=1, inplace=True)\n",
        "suhu.set_index('Entity',inplace=True)\n",
        "suhu=suhu.loc['Tropics']\n",
        "suhu.reset_index(inplace=True)\n",
        "suhu.set_index('Year',inplace=True)\n",
        "suhu"
      ],
      "execution_count": null,
      "outputs": [
        {
          "output_type": "execute_result",
          "data": {
            "text/html": [
              "<div>\n",
              "<style scoped>\n",
              "    .dataframe tbody tr th:only-of-type {\n",
              "        vertical-align: middle;\n",
              "    }\n",
              "\n",
              "    .dataframe tbody tr th {\n",
              "        vertical-align: top;\n",
              "    }\n",
              "\n",
              "    .dataframe thead th {\n",
              "        text-align: right;\n",
              "    }\n",
              "</style>\n",
              "<table border=\"1\" class=\"dataframe\">\n",
              "  <thead>\n",
              "    <tr style=\"text-align: right;\">\n",
              "      <th></th>\n",
              "      <th>Entity</th>\n",
              "      <th>Median temperature anomaly from 1961-1990 average</th>\n",
              "      <th>Upper bound (95% CI)</th>\n",
              "      <th>Lower bound (95% CI)</th>\n",
              "    </tr>\n",
              "    <tr>\n",
              "      <th>Year</th>\n",
              "      <th></th>\n",
              "      <th></th>\n",
              "      <th></th>\n",
              "      <th></th>\n",
              "    </tr>\n",
              "  </thead>\n",
              "  <tbody>\n",
              "    <tr>\n",
              "      <th>1850</th>\n",
              "      <td>Tropics</td>\n",
              "      <td>-0.308</td>\n",
              "      <td>-0.278</td>\n",
              "      <td>-0.363</td>\n",
              "    </tr>\n",
              "    <tr>\n",
              "      <th>1851</th>\n",
              "      <td>Tropics</td>\n",
              "      <td>-0.229</td>\n",
              "      <td>-0.198</td>\n",
              "      <td>-0.280</td>\n",
              "    </tr>\n",
              "    <tr>\n",
              "      <th>1852</th>\n",
              "      <td>Tropics</td>\n",
              "      <td>-0.133</td>\n",
              "      <td>-0.104</td>\n",
              "      <td>-0.184</td>\n",
              "    </tr>\n",
              "    <tr>\n",
              "      <th>1853</th>\n",
              "      <td>Tropics</td>\n",
              "      <td>-0.141</td>\n",
              "      <td>-0.115</td>\n",
              "      <td>-0.195</td>\n",
              "    </tr>\n",
              "    <tr>\n",
              "      <th>1854</th>\n",
              "      <td>Tropics</td>\n",
              "      <td>-0.200</td>\n",
              "      <td>-0.172</td>\n",
              "      <td>-0.255</td>\n",
              "    </tr>\n",
              "    <tr>\n",
              "      <th>...</th>\n",
              "      <td>...</td>\n",
              "      <td>...</td>\n",
              "      <td>...</td>\n",
              "      <td>...</td>\n",
              "    </tr>\n",
              "    <tr>\n",
              "      <th>2015</th>\n",
              "      <td>Tropics</td>\n",
              "      <td>0.737</td>\n",
              "      <td>0.781</td>\n",
              "      <td>0.690</td>\n",
              "    </tr>\n",
              "    <tr>\n",
              "      <th>2016</th>\n",
              "      <td>Tropics</td>\n",
              "      <td>0.763</td>\n",
              "      <td>0.806</td>\n",
              "      <td>0.713</td>\n",
              "    </tr>\n",
              "    <tr>\n",
              "      <th>2017</th>\n",
              "      <td>Tropics</td>\n",
              "      <td>0.563</td>\n",
              "      <td>0.607</td>\n",
              "      <td>0.514</td>\n",
              "    </tr>\n",
              "    <tr>\n",
              "      <th>2018</th>\n",
              "      <td>Tropics</td>\n",
              "      <td>0.473</td>\n",
              "      <td>0.517</td>\n",
              "      <td>0.424</td>\n",
              "    </tr>\n",
              "    <tr>\n",
              "      <th>2019</th>\n",
              "      <td>Tropics</td>\n",
              "      <td>0.656</td>\n",
              "      <td>0.703</td>\n",
              "      <td>0.607</td>\n",
              "    </tr>\n",
              "  </tbody>\n",
              "</table>\n",
              "<p>170 rows × 4 columns</p>\n",
              "</div>"
            ],
            "text/plain": [
              "       Entity  ...  Lower bound (95% CI)\n",
              "Year           ...                      \n",
              "1850  Tropics  ...                -0.363\n",
              "1851  Tropics  ...                -0.280\n",
              "1852  Tropics  ...                -0.184\n",
              "1853  Tropics  ...                -0.195\n",
              "1854  Tropics  ...                -0.255\n",
              "...       ...  ...                   ...\n",
              "2015  Tropics  ...                 0.690\n",
              "2016  Tropics  ...                 0.713\n",
              "2017  Tropics  ...                 0.514\n",
              "2018  Tropics  ...                 0.424\n",
              "2019  Tropics  ...                 0.607\n",
              "\n",
              "[170 rows x 4 columns]"
            ]
          },
          "metadata": {
            "tags": []
          },
          "execution_count": 164
        }
      ]
    },
    {
      "cell_type": "code",
      "metadata": {
        "colab": {
          "base_uri": "https://localhost:8080/",
          "height": 486
        },
        "id": "EzKC6F98WkZK",
        "outputId": "a7ec3980-392f-4088-8147-00b1e137fa0d"
      },
      "source": [
        "plt.figure(figsize=(15,7.5))\n",
        "air_q=sns.lineplot(x='Year', y='Median temperature anomaly from 1961-1990 average', data=suhu,palette='Set1')\n",
        "\n",
        "air_q.set(xlabel =\"Year\",ylabel='Absolute Change',title ='Average temperature anomaly')\n",
        "\n",
        "air_q.figure.savefig('linesuhu.png')\n",
        "\n",
        "plt.show()"
      ],
      "execution_count": null,
      "outputs": [
        {
          "output_type": "display_data",
          "data": {
            "image/png": "[encoded data removed]",
            "text/plain": [
              "<Figure size 1080x540 with 1 Axes>"
            ]
          },
          "metadata": {
            "tags": []
          }
        }
      ]
    },
    {
      "cell_type": "markdown",
      "metadata": {
        "id": "WwFJ62Om5A06"
      },
      "source": [
        "## 7. Data About Number Of Deaths From Air Pollution\n",
        "\n",
        "Source:\n",
        "*   https://ourworldindata.org/grapher/total-deaths-from-air-pollution\n",
        "*   http://ghdx.healthdata.org/gbd-results-tool\n",
        "\n",
        "Keterangan :\n",
        "\n",
        "The sum of deaths from household, and outdoor particulate and ozone air pollution.\n",
        "\n",
        "Jumlah kematian dari rumah tangga, dan partikulat luar ruangan dan polusi udara ozon."
      ]
    },
    {
      "cell_type": "code",
      "metadata": {
        "id": "S61n7L3YzZQ_",
        "colab": {
          "base_uri": "https://localhost:8080/",
          "height": 204
        },
        "outputId": "4cafb0a4-41da-4e29-925e-c7e8fae733ad"
      },
      "source": [
        "airpol = pd.read_csv('https://raw.githubusercontent.com/Jauhar-Hakim571/Tugas-Akhir-EDA/main/total-deaths-from-air-pollution.csv')\n",
        "\n",
        "airpol.head()"
      ],
      "execution_count": null,
      "outputs": [
        {
          "output_type": "execute_result",
          "data": {
            "text/html": [
              "<div>\n",
              "<style scoped>\n",
              "    .dataframe tbody tr th:only-of-type {\n",
              "        vertical-align: middle;\n",
              "    }\n",
              "\n",
              "    .dataframe tbody tr th {\n",
              "        vertical-align: top;\n",
              "    }\n",
              "\n",
              "    .dataframe thead th {\n",
              "        text-align: right;\n",
              "    }\n",
              "</style>\n",
              "<table border=\"1\" class=\"dataframe\">\n",
              "  <thead>\n",
              "    <tr style=\"text-align: right;\">\n",
              "      <th></th>\n",
              "      <th>Entity</th>\n",
              "      <th>Code</th>\n",
              "      <th>Year</th>\n",
              "      <th>Deaths - Air pollution - Sex: Both - Age: All Ages (Number)</th>\n",
              "    </tr>\n",
              "  </thead>\n",
              "  <tbody>\n",
              "    <tr>\n",
              "      <th>0</th>\n",
              "      <td>Afghanistan</td>\n",
              "      <td>AFG</td>\n",
              "      <td>1990</td>\n",
              "      <td>26598.006727</td>\n",
              "    </tr>\n",
              "    <tr>\n",
              "      <th>1</th>\n",
              "      <td>Afghanistan</td>\n",
              "      <td>AFG</td>\n",
              "      <td>1991</td>\n",
              "      <td>26379.532218</td>\n",
              "    </tr>\n",
              "    <tr>\n",
              "      <th>2</th>\n",
              "      <td>Afghanistan</td>\n",
              "      <td>AFG</td>\n",
              "      <td>1992</td>\n",
              "      <td>27263.127914</td>\n",
              "    </tr>\n",
              "    <tr>\n",
              "      <th>3</th>\n",
              "      <td>Afghanistan</td>\n",
              "      <td>AFG</td>\n",
              "      <td>1993</td>\n",
              "      <td>30495.561499</td>\n",
              "    </tr>\n",
              "    <tr>\n",
              "      <th>4</th>\n",
              "      <td>Afghanistan</td>\n",
              "      <td>AFG</td>\n",
              "      <td>1994</td>\n",
              "      <td>33323.161401</td>\n",
              "    </tr>\n",
              "  </tbody>\n",
              "</table>\n",
              "</div>"
            ],
            "text/plain": [
              "        Entity  ... Deaths - Air pollution - Sex: Both - Age: All Ages (Number)\n",
              "0  Afghanistan  ...                                       26598.006727         \n",
              "1  Afghanistan  ...                                       26379.532218         \n",
              "2  Afghanistan  ...                                       27263.127914         \n",
              "3  Afghanistan  ...                                       30495.561499         \n",
              "4  Afghanistan  ...                                       33323.161401         \n",
              "\n",
              "[5 rows x 4 columns]"
            ]
          },
          "metadata": {
            "tags": []
          },
          "execution_count": 166
        }
      ]
    },
    {
      "cell_type": "code",
      "metadata": {
        "id": "FWx4oZC-0Ice",
        "colab": {
          "base_uri": "https://localhost:8080/",
          "height": 235
        },
        "outputId": "0f176718-83b7-4ecf-9d87-1395b143e3c9"
      },
      "source": [
        "airpol.set_index(['Entity'],inplace = True)\n",
        "airpol.head()"
      ],
      "execution_count": null,
      "outputs": [
        {
          "output_type": "execute_result",
          "data": {
            "text/html": [
              "<div>\n",
              "<style scoped>\n",
              "    .dataframe tbody tr th:only-of-type {\n",
              "        vertical-align: middle;\n",
              "    }\n",
              "\n",
              "    .dataframe tbody tr th {\n",
              "        vertical-align: top;\n",
              "    }\n",
              "\n",
              "    .dataframe thead th {\n",
              "        text-align: right;\n",
              "    }\n",
              "</style>\n",
              "<table border=\"1\" class=\"dataframe\">\n",
              "  <thead>\n",
              "    <tr style=\"text-align: right;\">\n",
              "      <th></th>\n",
              "      <th>Code</th>\n",
              "      <th>Year</th>\n",
              "      <th>Deaths - Air pollution - Sex: Both - Age: All Ages (Number)</th>\n",
              "    </tr>\n",
              "    <tr>\n",
              "      <th>Entity</th>\n",
              "      <th></th>\n",
              "      <th></th>\n",
              "      <th></th>\n",
              "    </tr>\n",
              "  </thead>\n",
              "  <tbody>\n",
              "    <tr>\n",
              "      <th>Afghanistan</th>\n",
              "      <td>AFG</td>\n",
              "      <td>1990</td>\n",
              "      <td>26598.006727</td>\n",
              "    </tr>\n",
              "    <tr>\n",
              "      <th>Afghanistan</th>\n",
              "      <td>AFG</td>\n",
              "      <td>1991</td>\n",
              "      <td>26379.532218</td>\n",
              "    </tr>\n",
              "    <tr>\n",
              "      <th>Afghanistan</th>\n",
              "      <td>AFG</td>\n",
              "      <td>1992</td>\n",
              "      <td>27263.127914</td>\n",
              "    </tr>\n",
              "    <tr>\n",
              "      <th>Afghanistan</th>\n",
              "      <td>AFG</td>\n",
              "      <td>1993</td>\n",
              "      <td>30495.561499</td>\n",
              "    </tr>\n",
              "    <tr>\n",
              "      <th>Afghanistan</th>\n",
              "      <td>AFG</td>\n",
              "      <td>1994</td>\n",
              "      <td>33323.161401</td>\n",
              "    </tr>\n",
              "  </tbody>\n",
              "</table>\n",
              "</div>"
            ],
            "text/plain": [
              "            Code  ...  Deaths - Air pollution - Sex: Both - Age: All Ages (Number)\n",
              "Entity            ...                                                             \n",
              "Afghanistan  AFG  ...                                       26598.006727          \n",
              "Afghanistan  AFG  ...                                       26379.532218          \n",
              "Afghanistan  AFG  ...                                       27263.127914          \n",
              "Afghanistan  AFG  ...                                       30495.561499          \n",
              "Afghanistan  AFG  ...                                       33323.161401          \n",
              "\n",
              "[5 rows x 3 columns]"
            ]
          },
          "metadata": {
            "tags": []
          },
          "execution_count": 167
        }
      ]
    },
    {
      "cell_type": "code",
      "metadata": {
        "colab": {
          "base_uri": "https://localhost:8080/",
          "height": 235
        },
        "id": "K2aOARFVGbuX",
        "outputId": "c0cff34b-6f6d-4342-b685-f25d64432dfe"
      },
      "source": [
        "airpol_asean = airpol.loc[Asean3]\n",
        "\n",
        "airpol_asean.reset_index(inplace=True)\n",
        "airpol_asean.set_index(['Year'],inplace=True)\n",
        "airpol_asean.drop('Code', axis=1, inplace=True)\n",
        "airpol_asean.head()"
      ],
      "execution_count": null,
      "outputs": [
        {
          "output_type": "execute_result",
          "data": {
            "text/html": [
              "<div>\n",
              "<style scoped>\n",
              "    .dataframe tbody tr th:only-of-type {\n",
              "        vertical-align: middle;\n",
              "    }\n",
              "\n",
              "    .dataframe tbody tr th {\n",
              "        vertical-align: top;\n",
              "    }\n",
              "\n",
              "    .dataframe thead th {\n",
              "        text-align: right;\n",
              "    }\n",
              "</style>\n",
              "<table border=\"1\" class=\"dataframe\">\n",
              "  <thead>\n",
              "    <tr style=\"text-align: right;\">\n",
              "      <th></th>\n",
              "      <th>Entity</th>\n",
              "      <th>Deaths - Air pollution - Sex: Both - Age: All Ages (Number)</th>\n",
              "    </tr>\n",
              "    <tr>\n",
              "      <th>Year</th>\n",
              "      <th></th>\n",
              "      <th></th>\n",
              "    </tr>\n",
              "  </thead>\n",
              "  <tbody>\n",
              "    <tr>\n",
              "      <th>1990</th>\n",
              "      <td>Indonesia</td>\n",
              "      <td>114298.531998</td>\n",
              "    </tr>\n",
              "    <tr>\n",
              "      <th>1991</th>\n",
              "      <td>Indonesia</td>\n",
              "      <td>111828.427268</td>\n",
              "    </tr>\n",
              "    <tr>\n",
              "      <th>1992</th>\n",
              "      <td>Indonesia</td>\n",
              "      <td>109448.152952</td>\n",
              "    </tr>\n",
              "    <tr>\n",
              "      <th>1993</th>\n",
              "      <td>Indonesia</td>\n",
              "      <td>107768.850738</td>\n",
              "    </tr>\n",
              "    <tr>\n",
              "      <th>1994</th>\n",
              "      <td>Indonesia</td>\n",
              "      <td>105995.514561</td>\n",
              "    </tr>\n",
              "  </tbody>\n",
              "</table>\n",
              "</div>"
            ],
            "text/plain": [
              "         Entity  Deaths - Air pollution - Sex: Both - Age: All Ages (Number)\n",
              "Year                                                                        \n",
              "1990  Indonesia                                      114298.531998          \n",
              "1991  Indonesia                                      111828.427268          \n",
              "1992  Indonesia                                      109448.152952          \n",
              "1993  Indonesia                                      107768.850738          \n",
              "1994  Indonesia                                      105995.514561          "
            ]
          },
          "metadata": {
            "tags": []
          },
          "execution_count": 168
        }
      ]
    },
    {
      "cell_type": "code",
      "metadata": {
        "colab": {
          "base_uri": "https://localhost:8080/",
          "height": 235
        },
        "id": "-Jy96HifG4Cb",
        "outputId": "8f87a740-d805-43f3-a226-62103551b37f"
      },
      "source": [
        "airpol_asean2 = airpol.loc[Asean3].groupby(['Year','Entity']).sum()\n",
        "airpol_asean2.head()"
      ],
      "execution_count": null,
      "outputs": [
        {
          "output_type": "execute_result",
          "data": {
            "text/html": [
              "<div>\n",
              "<style scoped>\n",
              "    .dataframe tbody tr th:only-of-type {\n",
              "        vertical-align: middle;\n",
              "    }\n",
              "\n",
              "    .dataframe tbody tr th {\n",
              "        vertical-align: top;\n",
              "    }\n",
              "\n",
              "    .dataframe thead th {\n",
              "        text-align: right;\n",
              "    }\n",
              "</style>\n",
              "<table border=\"1\" class=\"dataframe\">\n",
              "  <thead>\n",
              "    <tr style=\"text-align: right;\">\n",
              "      <th></th>\n",
              "      <th></th>\n",
              "      <th>Deaths - Air pollution - Sex: Both - Age: All Ages (Number)</th>\n",
              "    </tr>\n",
              "    <tr>\n",
              "      <th>Year</th>\n",
              "      <th>Entity</th>\n",
              "      <th></th>\n",
              "    </tr>\n",
              "  </thead>\n",
              "  <tbody>\n",
              "    <tr>\n",
              "      <th rowspan=\"5\" valign=\"top\">1990</th>\n",
              "      <th>Brunei</th>\n",
              "      <td>43.164828</td>\n",
              "    </tr>\n",
              "    <tr>\n",
              "      <th>Cambodia</th>\n",
              "      <td>16717.100824</td>\n",
              "    </tr>\n",
              "    <tr>\n",
              "      <th>Indonesia</th>\n",
              "      <td>114298.531998</td>\n",
              "    </tr>\n",
              "    <tr>\n",
              "      <th>Laos</th>\n",
              "      <td>8444.930174</td>\n",
              "    </tr>\n",
              "    <tr>\n",
              "      <th>Malaysia</th>\n",
              "      <td>6120.773785</td>\n",
              "    </tr>\n",
              "  </tbody>\n",
              "</table>\n",
              "</div>"
            ],
            "text/plain": [
              "                Deaths - Air pollution - Sex: Both - Age: All Ages (Number)\n",
              "Year Entity                                                                \n",
              "1990 Brunei                                             43.164828          \n",
              "     Cambodia                                        16717.100824          \n",
              "     Indonesia                                      114298.531998          \n",
              "     Laos                                             8444.930174          \n",
              "     Malaysia                                         6120.773785          "
            ]
          },
          "metadata": {
            "tags": []
          },
          "execution_count": 169
        }
      ]
    },
    {
      "cell_type": "code",
      "metadata": {
        "colab": {
          "base_uri": "https://localhost:8080/",
          "height": 235
        },
        "id": "N_872d-cG_2g",
        "outputId": "bfbfc20f-855a-4f01-ee0f-e7f079f99ac3"
      },
      "source": [
        "airpol_asean3 = tabelbaru(airpol_asean2,Asean3)\n",
        "airpol_asean3.tail()"
      ],
      "execution_count": null,
      "outputs": [
        {
          "output_type": "execute_result",
          "data": {
            "text/html": [
              "<div>\n",
              "<style scoped>\n",
              "    .dataframe tbody tr th:only-of-type {\n",
              "        vertical-align: middle;\n",
              "    }\n",
              "\n",
              "    .dataframe tbody tr th {\n",
              "        vertical-align: top;\n",
              "    }\n",
              "\n",
              "    .dataframe thead th {\n",
              "        text-align: right;\n",
              "    }\n",
              "</style>\n",
              "<table border=\"1\" class=\"dataframe\">\n",
              "  <thead>\n",
              "    <tr style=\"text-align: right;\">\n",
              "      <th></th>\n",
              "      <th>Brunei</th>\n",
              "      <th>Cambodia</th>\n",
              "      <th>Indonesia</th>\n",
              "      <th>Laos</th>\n",
              "      <th>Malaysia</th>\n",
              "      <th>Myanmar</th>\n",
              "      <th>Philippines</th>\n",
              "      <th>Singapore</th>\n",
              "      <th>Thailand</th>\n",
              "      <th>Vietnam</th>\n",
              "    </tr>\n",
              "    <tr>\n",
              "      <th>Year</th>\n",
              "      <th></th>\n",
              "      <th></th>\n",
              "      <th></th>\n",
              "      <th></th>\n",
              "      <th></th>\n",
              "      <th></th>\n",
              "      <th></th>\n",
              "      <th></th>\n",
              "      <th></th>\n",
              "      <th></th>\n",
              "    </tr>\n",
              "  </thead>\n",
              "  <tbody>\n",
              "    <tr>\n",
              "      <th>2013</th>\n",
              "      <td>55.3329</td>\n",
              "      <td>10437.9</td>\n",
              "      <td>121164</td>\n",
              "      <td>5395.99</td>\n",
              "      <td>9929.33</td>\n",
              "      <td>45497</td>\n",
              "      <td>64345.1</td>\n",
              "      <td>1181.58</td>\n",
              "      <td>28454.1</td>\n",
              "      <td>49202.8</td>\n",
              "    </tr>\n",
              "    <tr>\n",
              "      <th>2014</th>\n",
              "      <td>50.6464</td>\n",
              "      <td>10508.7</td>\n",
              "      <td>121288</td>\n",
              "      <td>5276.12</td>\n",
              "      <td>10356.5</td>\n",
              "      <td>45250.1</td>\n",
              "      <td>64717.8</td>\n",
              "      <td>1157.32</td>\n",
              "      <td>28636.2</td>\n",
              "      <td>49458.4</td>\n",
              "    </tr>\n",
              "    <tr>\n",
              "      <th>2015</th>\n",
              "      <td>56.2347</td>\n",
              "      <td>10548.3</td>\n",
              "      <td>122808</td>\n",
              "      <td>5157.2</td>\n",
              "      <td>11001.3</td>\n",
              "      <td>45191.9</td>\n",
              "      <td>65695.2</td>\n",
              "      <td>1295.31</td>\n",
              "      <td>28705.4</td>\n",
              "      <td>49404.1</td>\n",
              "    </tr>\n",
              "    <tr>\n",
              "      <th>2016</th>\n",
              "      <td>50.6277</td>\n",
              "      <td>10599.3</td>\n",
              "      <td>123050</td>\n",
              "      <td>5066.48</td>\n",
              "      <td>10827.7</td>\n",
              "      <td>45223.2</td>\n",
              "      <td>64604.1</td>\n",
              "      <td>1250.89</td>\n",
              "      <td>29660.8</td>\n",
              "      <td>49633.6</td>\n",
              "    </tr>\n",
              "    <tr>\n",
              "      <th>2017</th>\n",
              "      <td>52.4396</td>\n",
              "      <td>10744.2</td>\n",
              "      <td>123753</td>\n",
              "      <td>5009.83</td>\n",
              "      <td>11352.3</td>\n",
              "      <td>45383.2</td>\n",
              "      <td>64386.2</td>\n",
              "      <td>1318.27</td>\n",
              "      <td>30625.2</td>\n",
              "      <td>50232.3</td>\n",
              "    </tr>\n",
              "  </tbody>\n",
              "</table>\n",
              "</div>"
            ],
            "text/plain": [
              "       Brunei Cambodia Indonesia  ... Singapore Thailand  Vietnam\n",
              "Year                              ...                            \n",
              "2013  55.3329  10437.9    121164  ...   1181.58  28454.1  49202.8\n",
              "2014  50.6464  10508.7    121288  ...   1157.32  28636.2  49458.4\n",
              "2015  56.2347  10548.3    122808  ...   1295.31  28705.4  49404.1\n",
              "2016  50.6277  10599.3    123050  ...   1250.89  29660.8  49633.6\n",
              "2017  52.4396  10744.2    123753  ...   1318.27  30625.2  50232.3\n",
              "\n",
              "[5 rows x 10 columns]"
            ]
          },
          "metadata": {
            "tags": []
          },
          "execution_count": 170
        }
      ]
    },
    {
      "cell_type": "code",
      "metadata": {
        "id": "fSdAbd7WHFwy",
        "colab": {
          "base_uri": "https://localhost:8080/"
        },
        "outputId": "999244ea-facb-4d81-89de-30086b31ec07"
      },
      "source": [
        "airpol_asean3.dtypes"
      ],
      "execution_count": null,
      "outputs": [
        {
          "output_type": "execute_result",
          "data": {
            "text/plain": [
              "Brunei         object\n",
              "Cambodia       object\n",
              "Indonesia      object\n",
              "Laos           object\n",
              "Malaysia       object\n",
              "Myanmar        object\n",
              "Philippines    object\n",
              "Singapore      object\n",
              "Thailand       object\n",
              "Vietnam        object\n",
              "dtype: object"
            ]
          },
          "metadata": {
            "tags": []
          },
          "execution_count": 171
        }
      ]
    },
    {
      "cell_type": "code",
      "metadata": {
        "colab": {
          "base_uri": "https://localhost:8080/"
        },
        "id": "IwaGRh3pYw1A",
        "outputId": "2f124e6f-e50e-4185-b432-17086769bc99"
      },
      "source": [
        "for i in Asean3:\n",
        "    airpol_asean3[i] =pd.to_numeric(airpol_asean3[i])\n",
        "\n",
        "airpol_asean3.dtypes"
      ],
      "execution_count": null,
      "outputs": [
        {
          "output_type": "execute_result",
          "data": {
            "text/plain": [
              "Brunei         float64\n",
              "Cambodia       float64\n",
              "Indonesia      float64\n",
              "Laos           float64\n",
              "Malaysia       float64\n",
              "Myanmar        float64\n",
              "Philippines    float64\n",
              "Singapore      float64\n",
              "Thailand       float64\n",
              "Vietnam        float64\n",
              "dtype: object"
            ]
          },
          "metadata": {
            "tags": []
          },
          "execution_count": 172
        }
      ]
    },
    {
      "cell_type": "code",
      "metadata": {
        "colab": {
          "base_uri": "https://localhost:8080/"
        },
        "id": "vwp-jyWuY3WX",
        "outputId": "aa9e94dc-4122-4829-9544-6759951abc88"
      },
      "source": [
        "print(airpol_asean3.isnull().sum())\n",
        "airpol_asean3.dropna(inplace=True)\n",
        "print(airpol_asean3.isnull().sum())"
      ],
      "execution_count": null,
      "outputs": [
        {
          "output_type": "stream",
          "text": [
            "Brunei         0\n",
            "Cambodia       0\n",
            "Indonesia      0\n",
            "Laos           0\n",
            "Malaysia       0\n",
            "Myanmar        0\n",
            "Philippines    0\n",
            "Singapore      0\n",
            "Thailand       0\n",
            "Vietnam        0\n",
            "dtype: int64\n",
            "Brunei         0\n",
            "Cambodia       0\n",
            "Indonesia      0\n",
            "Laos           0\n",
            "Malaysia       0\n",
            "Myanmar        0\n",
            "Philippines    0\n",
            "Singapore      0\n",
            "Thailand       0\n",
            "Vietnam        0\n",
            "dtype: int64\n"
          ],
          "name": "stdout"
        }
      ]
    },
    {
      "cell_type": "code",
      "metadata": {
        "colab": {
          "base_uri": "https://localhost:8080/",
          "height": 235
        },
        "id": "53fFq3i3ZB-H",
        "outputId": "83c3c4d5-279b-4965-df72-937aa21de164"
      },
      "source": [
        "airpol_asean3['Rata-Rata']=airpol_asean3.mean(axis=1)\n",
        "airpol_asean3.head()"
      ],
      "execution_count": null,
      "outputs": [
        {
          "output_type": "execute_result",
          "data": {
            "text/html": [
              "<div>\n",
              "<style scoped>\n",
              "    .dataframe tbody tr th:only-of-type {\n",
              "        vertical-align: middle;\n",
              "    }\n",
              "\n",
              "    .dataframe tbody tr th {\n",
              "        vertical-align: top;\n",
              "    }\n",
              "\n",
              "    .dataframe thead th {\n",
              "        text-align: right;\n",
              "    }\n",
              "</style>\n",
              "<table border=\"1\" class=\"dataframe\">\n",
              "  <thead>\n",
              "    <tr style=\"text-align: right;\">\n",
              "      <th></th>\n",
              "      <th>Brunei</th>\n",
              "      <th>Cambodia</th>\n",
              "      <th>Indonesia</th>\n",
              "      <th>Laos</th>\n",
              "      <th>Malaysia</th>\n",
              "      <th>Myanmar</th>\n",
              "      <th>Philippines</th>\n",
              "      <th>Singapore</th>\n",
              "      <th>Thailand</th>\n",
              "      <th>Vietnam</th>\n",
              "      <th>Rata-Rata</th>\n",
              "    </tr>\n",
              "    <tr>\n",
              "      <th>Year</th>\n",
              "      <th></th>\n",
              "      <th></th>\n",
              "      <th></th>\n",
              "      <th></th>\n",
              "      <th></th>\n",
              "      <th></th>\n",
              "      <th></th>\n",
              "      <th></th>\n",
              "      <th></th>\n",
              "      <th></th>\n",
              "      <th></th>\n",
              "    </tr>\n",
              "  </thead>\n",
              "  <tbody>\n",
              "    <tr>\n",
              "      <th>1990</th>\n",
              "      <td>43.164828</td>\n",
              "      <td>16717.100824</td>\n",
              "      <td>114298.531998</td>\n",
              "      <td>8444.930174</td>\n",
              "      <td>6120.773785</td>\n",
              "      <td>58056.449088</td>\n",
              "      <td>40716.446113</td>\n",
              "      <td>1051.633117</td>\n",
              "      <td>26741.099707</td>\n",
              "      <td>43821.837316</td>\n",
              "      <td>31601.196695</td>\n",
              "    </tr>\n",
              "    <tr>\n",
              "      <th>1991</th>\n",
              "      <td>43.014403</td>\n",
              "      <td>16572.403535</td>\n",
              "      <td>111828.427268</td>\n",
              "      <td>8389.426291</td>\n",
              "      <td>6277.835597</td>\n",
              "      <td>58518.514805</td>\n",
              "      <td>39550.231599</td>\n",
              "      <td>1054.737299</td>\n",
              "      <td>27224.737299</td>\n",
              "      <td>43647.862405</td>\n",
              "      <td>31310.719050</td>\n",
              "    </tr>\n",
              "    <tr>\n",
              "      <th>1992</th>\n",
              "      <td>42.603202</td>\n",
              "      <td>16428.090337</td>\n",
              "      <td>109448.152952</td>\n",
              "      <td>8315.756566</td>\n",
              "      <td>6412.174110</td>\n",
              "      <td>58469.847229</td>\n",
              "      <td>39727.987307</td>\n",
              "      <td>1060.526031</td>\n",
              "      <td>27626.197941</td>\n",
              "      <td>43401.728727</td>\n",
              "      <td>31093.306440</td>\n",
              "    </tr>\n",
              "    <tr>\n",
              "      <th>1993</th>\n",
              "      <td>41.996367</td>\n",
              "      <td>16329.437423</td>\n",
              "      <td>107768.850738</td>\n",
              "      <td>8234.186427</td>\n",
              "      <td>6474.974653</td>\n",
              "      <td>58390.290828</td>\n",
              "      <td>38311.284650</td>\n",
              "      <td>1076.932331</td>\n",
              "      <td>28197.264872</td>\n",
              "      <td>43161.457319</td>\n",
              "      <td>30798.667561</td>\n",
              "    </tr>\n",
              "    <tr>\n",
              "      <th>1994</th>\n",
              "      <td>41.512333</td>\n",
              "      <td>16169.170180</td>\n",
              "      <td>105995.514561</td>\n",
              "      <td>8134.094967</td>\n",
              "      <td>6574.189078</td>\n",
              "      <td>58156.787271</td>\n",
              "      <td>37674.089611</td>\n",
              "      <td>1105.235386</td>\n",
              "      <td>28398.327115</td>\n",
              "      <td>42793.982421</td>\n",
              "      <td>30504.290292</td>\n",
              "    </tr>\n",
              "  </tbody>\n",
              "</table>\n",
              "</div>"
            ],
            "text/plain": [
              "         Brunei      Cambodia  ...       Vietnam     Rata-Rata\n",
              "Year                           ...                            \n",
              "1990  43.164828  16717.100824  ...  43821.837316  31601.196695\n",
              "1991  43.014403  16572.403535  ...  43647.862405  31310.719050\n",
              "1992  42.603202  16428.090337  ...  43401.728727  31093.306440\n",
              "1993  41.996367  16329.437423  ...  43161.457319  30798.667561\n",
              "1994  41.512333  16169.170180  ...  42793.982421  30504.290292\n",
              "\n",
              "[5 rows x 11 columns]"
            ]
          },
          "metadata": {
            "tags": []
          },
          "execution_count": 174
        }
      ]
    },
    {
      "cell_type": "code",
      "metadata": {
        "colab": {
          "base_uri": "https://localhost:8080/",
          "height": 405
        },
        "id": "kpmLRCywqLyX",
        "outputId": "ee4ca7a7-27e5-45aa-9c25-6f7634242d92"
      },
      "source": [
        "air_p = airpol_asean3.plot(subplots=False, figsize=(12,6))\n",
        "plt.legend(loc='upper right')"
      ],
      "execution_count": null,
      "outputs": [
        {
          "output_type": "execute_result",
          "data": {
            "text/plain": [
              "<matplotlib.legend.Legend at 0x7f274415a9d0>"
            ]
          },
          "metadata": {
            "tags": []
          },
          "execution_count": 175
        },
        {
          "output_type": "display_data",
          "data": {
            "image/png": "[encoded data removed]",
            "text/plain": [
              "<Figure size 864x432 with 1 Axes>"
            ]
          },
          "metadata": {
            "tags": []
          }
        }
      ]
    },
    {
      "cell_type": "code",
      "metadata": {
        "colab": {
          "base_uri": "https://localhost:8080/",
          "height": 486
        },
        "id": "GvhQNXvmZLTA",
        "outputId": "6fd0cf3c-14b5-4e85-f5de-0193ca62d99c"
      },
      "source": [
        "plt.figure(figsize=(15,7.5))\n",
        "air_q=sns.lineplot(x='Year', y='Rata-Rata', data=airpol_asean3,palette='Set1')\n",
        "\n",
        "air_q.set(xlabel =\"Year\",ylabel='Amount People',title ='Number Of Deaths From Air Pollution (Jumlah kematian akibat polusi udara)')\n",
        "air_q.figure.savefig('lineair.png')\n",
        "\n",
        "plt.show()"
      ],
      "execution_count": null,
      "outputs": [
        {
          "output_type": "display_data",
          "data": {
            "image/png": "[encoded data removed]",
            "text/plain": [
              "<Figure size 1080x540 with 1 Axes>"
            ]
          },
          "metadata": {
            "tags": []
          }
        }
      ]
    }
  ]
}